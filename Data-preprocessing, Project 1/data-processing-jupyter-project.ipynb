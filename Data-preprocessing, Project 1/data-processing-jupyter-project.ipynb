{
 "cells": [
  {
   "cell_type": "markdown",
   "metadata": {},
   "source": [
    "# Исследование надёжности заёмщиков\n",
    "\n",
    "Заказчик — кредитный отдел банка. Нужно разобраться, влияет ли семейное положение и количество детей клиента на факт погашения кредита в срок. Входные данные от банка — статистика о платёжеспособности клиентов.\n",
    "\n",
    "Результаты исследования будут учтены при построении модели **кредитного скоринга** — специальной системы, которая оценивает способность потенциального заёмщика вернуть кредит банку.\n",
    "\n",
    "Mы будем работать с файлом, предоставленным банком, под названием 'data', который мы загрузим с помощью pandas.\n",
    "\n",
    "В этих данных встречаются столбцы со **значениями переменных**, чьи названия расшифровываются следующим образом:\n",
    "- `children` = количество детей в семье\n",
    "- `days_employed` = общий трудовой стаж в днях\n",
    "- `dob_years` = возраст клиента в годах\n",
    "- `education` = уровень образования клиента\n",
    "- `education_id` = идентификатор уровня образования\n",
    "- `family_status` = семейное положение\n",
    "- `family_status_id` = идентификатор семейного положения\n",
    "- `gender` = пол клиента\n",
    "- `income_type` = тип занятости\n",
    "- `debt` = имел ли задолженность по возврату кредитов\n",
    "- `total_income` = ежемесячный доход\n",
    "- `purpose` = цель получения кредита\n",
    "\n",
    "\n",
    "**В процессе иследования мы будем искать ответы на вопросы, поставленные нам банком:**\n",
    "- Есть ли зависимость между наличием детей и возвратом кредита в срок?\n",
    "- Есть ли зависимость между семейным положением и возвратом кредита в срок?\n",
    "- Есть ли зависимость между уровнем дохода и возвратом кредита в срок?\n",
    "- Как разные цели кредита влияют на его возврат в срок?\n",
    "\n",
    "\n",
    "**План нашего исследования:**\n",
    "1. Оценка качества данных, просмотр информации о столбцах\n",
    "2. Предобработка данных (разбираемся со странными, нулевыми и пропущеными значениями, дубликатами, итд.)\n",
    "3. Группировка данных по уровню дохода\n",
    "4. Формирование сводных таблиц, поиск закономерностей и зависимостей\n",
    "5. Финальный вывод, рекоммендации для банка, заполнение чек-листа"
   ]
  },
  {
   "cell_type": "markdown",
   "metadata": {},
   "source": [
    "**Оглавление:**\n",
    "\n",
    "1. [Открытие файла, изучение данных](#introduction)\n",
    "    * [Просмотр характеристики данных](#review)\n",
    "    * [Выводы насчёт `days_employed` и `total_income`](#days_income_review)\n",
    "    * [Выводы насчёт `children`](#children_review)\n",
    "    * [Выводы насчёт `dob_years`](#age_review)\n",
    "    * [Выводы насчёт `education` и `education_id`](#education_review)\n",
    "    * [Выводы насчёт `family_status` и `family_status_id`](#family_review)\n",
    "    * [Выводы насчёт `gender`](#gender_review)\n",
    "    * [Выводы насчёт `income_type` и `debt`](#income_type&debt_review)\n",
    "    * [Выводы насчёт `purpose`](#purpose_review)\n",
    "\n",
    "\n",
    "2. [Предобработка данных](#datawork)\n",
    "    * [Обработка подозрительно высоких и отрицательных трудовых стажей](#datawork1)\n",
    "    * [Обработка пропусков в столбцах `days_employed` и `total_income`](#datawork2)\n",
    "    * [Замена типа данных столбцов `days_employed` и `total_income`](#datawork3)\n",
    "    * [Исправление значений в столбце с детьми](#datawork4)\n",
    "    * [Работа с нулевым значением возраста](#datawork5)\n",
    "        * [Разбираемся с нюансом в `dob_years`, непредвиденным до замены нулевых значений](#datawork5.1)\n",
    "    * [Замена больших букв](#datawork6)\n",
    "    * [Удаление значения 'XNA' в столбце с полом клиентов](#datawork7)\n",
    "    * [Обработка дубликатов](#datawork8)\n",
    "        * [Автоматизированое удаление дубликатов](#datawork81)\n",
    "        * [Ручной просмотр дубликатов в столбце `purpose`, определение основных значений с помощью подсчёта  `lemmas`](#datawork82)\n",
    "    * [Лемматизация](#lemmas)\n",
    "    * [Категоризация данных](#categorisation)\n",
    "    \n",
    "\n",
    "3. [Подведение итогов, ответы на вопросы](#results)\n",
    "\n",
    "\n",
    "4. [Заключение - словари в данных:](#dictionaries)\n",
    "\n",
    "\n",
    "5. [Общий вывод](#conclusion)\n",
    "\n",
    "\n",
    "6. [Чек-лист готовности проекта](#checklist)\n",
    "    "
   ]
  },
  {
   "cell_type": "markdown",
   "metadata": {},
   "source": [
    "## Открытие файла, изучение данных<a id=\"introduction\"></a>"
   ]
  },
  {
   "cell_type": "markdown",
   "metadata": {},
   "source": [
    "### Просмотр характеристики данных<a id=\"review\"></a>"
   ]
  },
  {
   "cell_type": "code",
   "execution_count": 1,
   "metadata": {
    "scrolled": false
   },
   "outputs": [
    {
     "data": {
      "text/html": [
       "<div>\n",
       "<style scoped>\n",
       "    .dataframe tbody tr th:only-of-type {\n",
       "        vertical-align: middle;\n",
       "    }\n",
       "\n",
       "    .dataframe tbody tr th {\n",
       "        vertical-align: top;\n",
       "    }\n",
       "\n",
       "    .dataframe thead th {\n",
       "        text-align: right;\n",
       "    }\n",
       "</style>\n",
       "<table border=\"1\" class=\"dataframe\">\n",
       "  <thead>\n",
       "    <tr style=\"text-align: right;\">\n",
       "      <th></th>\n",
       "      <th>children</th>\n",
       "      <th>days_employed</th>\n",
       "      <th>dob_years</th>\n",
       "      <th>education</th>\n",
       "      <th>education_id</th>\n",
       "      <th>family_status</th>\n",
       "      <th>family_status_id</th>\n",
       "      <th>gender</th>\n",
       "      <th>income_type</th>\n",
       "      <th>debt</th>\n",
       "      <th>total_income</th>\n",
       "      <th>purpose</th>\n",
       "    </tr>\n",
       "  </thead>\n",
       "  <tbody>\n",
       "    <tr>\n",
       "      <td>0</td>\n",
       "      <td>1</td>\n",
       "      <td>-8437.673028</td>\n",
       "      <td>42</td>\n",
       "      <td>высшее</td>\n",
       "      <td>0</td>\n",
       "      <td>женат / замужем</td>\n",
       "      <td>0</td>\n",
       "      <td>F</td>\n",
       "      <td>сотрудник</td>\n",
       "      <td>0</td>\n",
       "      <td>253875.639453</td>\n",
       "      <td>покупка жилья</td>\n",
       "    </tr>\n",
       "    <tr>\n",
       "      <td>1</td>\n",
       "      <td>1</td>\n",
       "      <td>-4024.803754</td>\n",
       "      <td>36</td>\n",
       "      <td>среднее</td>\n",
       "      <td>1</td>\n",
       "      <td>женат / замужем</td>\n",
       "      <td>0</td>\n",
       "      <td>F</td>\n",
       "      <td>сотрудник</td>\n",
       "      <td>0</td>\n",
       "      <td>112080.014102</td>\n",
       "      <td>приобретение автомобиля</td>\n",
       "    </tr>\n",
       "    <tr>\n",
       "      <td>2</td>\n",
       "      <td>0</td>\n",
       "      <td>-5623.422610</td>\n",
       "      <td>33</td>\n",
       "      <td>Среднее</td>\n",
       "      <td>1</td>\n",
       "      <td>женат / замужем</td>\n",
       "      <td>0</td>\n",
       "      <td>M</td>\n",
       "      <td>сотрудник</td>\n",
       "      <td>0</td>\n",
       "      <td>145885.952297</td>\n",
       "      <td>покупка жилья</td>\n",
       "    </tr>\n",
       "    <tr>\n",
       "      <td>3</td>\n",
       "      <td>3</td>\n",
       "      <td>-4124.747207</td>\n",
       "      <td>32</td>\n",
       "      <td>среднее</td>\n",
       "      <td>1</td>\n",
       "      <td>женат / замужем</td>\n",
       "      <td>0</td>\n",
       "      <td>M</td>\n",
       "      <td>сотрудник</td>\n",
       "      <td>0</td>\n",
       "      <td>267628.550329</td>\n",
       "      <td>дополнительное образование</td>\n",
       "    </tr>\n",
       "    <tr>\n",
       "      <td>4</td>\n",
       "      <td>0</td>\n",
       "      <td>340266.072047</td>\n",
       "      <td>53</td>\n",
       "      <td>среднее</td>\n",
       "      <td>1</td>\n",
       "      <td>гражданский брак</td>\n",
       "      <td>1</td>\n",
       "      <td>F</td>\n",
       "      <td>пенсионер</td>\n",
       "      <td>0</td>\n",
       "      <td>158616.077870</td>\n",
       "      <td>сыграть свадьбу</td>\n",
       "    </tr>\n",
       "    <tr>\n",
       "      <td>5</td>\n",
       "      <td>0</td>\n",
       "      <td>-926.185831</td>\n",
       "      <td>27</td>\n",
       "      <td>высшее</td>\n",
       "      <td>0</td>\n",
       "      <td>гражданский брак</td>\n",
       "      <td>1</td>\n",
       "      <td>M</td>\n",
       "      <td>компаньон</td>\n",
       "      <td>0</td>\n",
       "      <td>255763.565419</td>\n",
       "      <td>покупка жилья</td>\n",
       "    </tr>\n",
       "    <tr>\n",
       "      <td>6</td>\n",
       "      <td>0</td>\n",
       "      <td>-2879.202052</td>\n",
       "      <td>43</td>\n",
       "      <td>высшее</td>\n",
       "      <td>0</td>\n",
       "      <td>женат / замужем</td>\n",
       "      <td>0</td>\n",
       "      <td>F</td>\n",
       "      <td>компаньон</td>\n",
       "      <td>0</td>\n",
       "      <td>240525.971920</td>\n",
       "      <td>операции с жильем</td>\n",
       "    </tr>\n",
       "    <tr>\n",
       "      <td>7</td>\n",
       "      <td>0</td>\n",
       "      <td>-152.779569</td>\n",
       "      <td>50</td>\n",
       "      <td>СРЕДНЕЕ</td>\n",
       "      <td>1</td>\n",
       "      <td>женат / замужем</td>\n",
       "      <td>0</td>\n",
       "      <td>M</td>\n",
       "      <td>сотрудник</td>\n",
       "      <td>0</td>\n",
       "      <td>135823.934197</td>\n",
       "      <td>образование</td>\n",
       "    </tr>\n",
       "    <tr>\n",
       "      <td>8</td>\n",
       "      <td>2</td>\n",
       "      <td>-6929.865299</td>\n",
       "      <td>35</td>\n",
       "      <td>ВЫСШЕЕ</td>\n",
       "      <td>0</td>\n",
       "      <td>гражданский брак</td>\n",
       "      <td>1</td>\n",
       "      <td>F</td>\n",
       "      <td>сотрудник</td>\n",
       "      <td>0</td>\n",
       "      <td>95856.832424</td>\n",
       "      <td>на проведение свадьбы</td>\n",
       "    </tr>\n",
       "    <tr>\n",
       "      <td>9</td>\n",
       "      <td>0</td>\n",
       "      <td>-2188.756445</td>\n",
       "      <td>41</td>\n",
       "      <td>среднее</td>\n",
       "      <td>1</td>\n",
       "      <td>женат / замужем</td>\n",
       "      <td>0</td>\n",
       "      <td>M</td>\n",
       "      <td>сотрудник</td>\n",
       "      <td>0</td>\n",
       "      <td>144425.938277</td>\n",
       "      <td>покупка жилья для семьи</td>\n",
       "    </tr>\n",
       "    <tr>\n",
       "      <td>10</td>\n",
       "      <td>2</td>\n",
       "      <td>-4171.483647</td>\n",
       "      <td>36</td>\n",
       "      <td>высшее</td>\n",
       "      <td>0</td>\n",
       "      <td>женат / замужем</td>\n",
       "      <td>0</td>\n",
       "      <td>M</td>\n",
       "      <td>компаньон</td>\n",
       "      <td>0</td>\n",
       "      <td>113943.491460</td>\n",
       "      <td>покупка недвижимости</td>\n",
       "    </tr>\n",
       "    <tr>\n",
       "      <td>11</td>\n",
       "      <td>0</td>\n",
       "      <td>-792.701887</td>\n",
       "      <td>40</td>\n",
       "      <td>среднее</td>\n",
       "      <td>1</td>\n",
       "      <td>женат / замужем</td>\n",
       "      <td>0</td>\n",
       "      <td>F</td>\n",
       "      <td>сотрудник</td>\n",
       "      <td>0</td>\n",
       "      <td>77069.234271</td>\n",
       "      <td>покупка коммерческой недвижимости</td>\n",
       "    </tr>\n",
       "    <tr>\n",
       "      <td>12</td>\n",
       "      <td>0</td>\n",
       "      <td>NaN</td>\n",
       "      <td>65</td>\n",
       "      <td>среднее</td>\n",
       "      <td>1</td>\n",
       "      <td>гражданский брак</td>\n",
       "      <td>1</td>\n",
       "      <td>M</td>\n",
       "      <td>пенсионер</td>\n",
       "      <td>0</td>\n",
       "      <td>NaN</td>\n",
       "      <td>сыграть свадьбу</td>\n",
       "    </tr>\n",
       "    <tr>\n",
       "      <td>13</td>\n",
       "      <td>0</td>\n",
       "      <td>-1846.641941</td>\n",
       "      <td>54</td>\n",
       "      <td>неоконченное высшее</td>\n",
       "      <td>2</td>\n",
       "      <td>женат / замужем</td>\n",
       "      <td>0</td>\n",
       "      <td>F</td>\n",
       "      <td>сотрудник</td>\n",
       "      <td>0</td>\n",
       "      <td>130458.228857</td>\n",
       "      <td>приобретение автомобиля</td>\n",
       "    </tr>\n",
       "    <tr>\n",
       "      <td>14</td>\n",
       "      <td>0</td>\n",
       "      <td>-1844.956182</td>\n",
       "      <td>56</td>\n",
       "      <td>высшее</td>\n",
       "      <td>0</td>\n",
       "      <td>гражданский брак</td>\n",
       "      <td>1</td>\n",
       "      <td>F</td>\n",
       "      <td>компаньон</td>\n",
       "      <td>1</td>\n",
       "      <td>165127.911772</td>\n",
       "      <td>покупка жилой недвижимости</td>\n",
       "    </tr>\n",
       "    <tr>\n",
       "      <td>15</td>\n",
       "      <td>1</td>\n",
       "      <td>-972.364419</td>\n",
       "      <td>26</td>\n",
       "      <td>среднее</td>\n",
       "      <td>1</td>\n",
       "      <td>женат / замужем</td>\n",
       "      <td>0</td>\n",
       "      <td>F</td>\n",
       "      <td>сотрудник</td>\n",
       "      <td>0</td>\n",
       "      <td>116820.904450</td>\n",
       "      <td>строительство собственной недвижимости</td>\n",
       "    </tr>\n",
       "    <tr>\n",
       "      <td>16</td>\n",
       "      <td>0</td>\n",
       "      <td>-1719.934226</td>\n",
       "      <td>35</td>\n",
       "      <td>среднее</td>\n",
       "      <td>1</td>\n",
       "      <td>женат / замужем</td>\n",
       "      <td>0</td>\n",
       "      <td>F</td>\n",
       "      <td>сотрудник</td>\n",
       "      <td>0</td>\n",
       "      <td>289202.704229</td>\n",
       "      <td>недвижимость</td>\n",
       "    </tr>\n",
       "    <tr>\n",
       "      <td>17</td>\n",
       "      <td>0</td>\n",
       "      <td>-2369.999720</td>\n",
       "      <td>33</td>\n",
       "      <td>высшее</td>\n",
       "      <td>0</td>\n",
       "      <td>гражданский брак</td>\n",
       "      <td>1</td>\n",
       "      <td>M</td>\n",
       "      <td>сотрудник</td>\n",
       "      <td>0</td>\n",
       "      <td>90410.586745</td>\n",
       "      <td>строительство недвижимости</td>\n",
       "    </tr>\n",
       "    <tr>\n",
       "      <td>18</td>\n",
       "      <td>0</td>\n",
       "      <td>400281.136913</td>\n",
       "      <td>53</td>\n",
       "      <td>среднее</td>\n",
       "      <td>1</td>\n",
       "      <td>вдовец / вдова</td>\n",
       "      <td>2</td>\n",
       "      <td>F</td>\n",
       "      <td>пенсионер</td>\n",
       "      <td>0</td>\n",
       "      <td>56823.777243</td>\n",
       "      <td>на покупку подержанного автомобиля</td>\n",
       "    </tr>\n",
       "    <tr>\n",
       "      <td>19</td>\n",
       "      <td>0</td>\n",
       "      <td>-10038.818549</td>\n",
       "      <td>48</td>\n",
       "      <td>СРЕДНЕЕ</td>\n",
       "      <td>1</td>\n",
       "      <td>в разводе</td>\n",
       "      <td>3</td>\n",
       "      <td>F</td>\n",
       "      <td>сотрудник</td>\n",
       "      <td>0</td>\n",
       "      <td>242831.107982</td>\n",
       "      <td>на покупку своего автомобиля</td>\n",
       "    </tr>\n",
       "    <tr>\n",
       "      <td>20</td>\n",
       "      <td>1</td>\n",
       "      <td>-1311.604166</td>\n",
       "      <td>36</td>\n",
       "      <td>среднее</td>\n",
       "      <td>1</td>\n",
       "      <td>женат / замужем</td>\n",
       "      <td>0</td>\n",
       "      <td>M</td>\n",
       "      <td>сотрудник</td>\n",
       "      <td>0</td>\n",
       "      <td>209552.644578</td>\n",
       "      <td>недвижимость</td>\n",
       "    </tr>\n",
       "    <tr>\n",
       "      <td>21</td>\n",
       "      <td>1</td>\n",
       "      <td>-253.685166</td>\n",
       "      <td>33</td>\n",
       "      <td>среднее</td>\n",
       "      <td>1</td>\n",
       "      <td>гражданский брак</td>\n",
       "      <td>1</td>\n",
       "      <td>F</td>\n",
       "      <td>сотрудник</td>\n",
       "      <td>0</td>\n",
       "      <td>131812.203909</td>\n",
       "      <td>приобретение автомобиля</td>\n",
       "    </tr>\n",
       "    <tr>\n",
       "      <td>22</td>\n",
       "      <td>1</td>\n",
       "      <td>-1766.644138</td>\n",
       "      <td>24</td>\n",
       "      <td>среднее</td>\n",
       "      <td>1</td>\n",
       "      <td>гражданский брак</td>\n",
       "      <td>1</td>\n",
       "      <td>F</td>\n",
       "      <td>сотрудник</td>\n",
       "      <td>0</td>\n",
       "      <td>149681.140731</td>\n",
       "      <td>на покупку подержанного автомобиля</td>\n",
       "    </tr>\n",
       "    <tr>\n",
       "      <td>23</td>\n",
       "      <td>0</td>\n",
       "      <td>-272.981385</td>\n",
       "      <td>21</td>\n",
       "      <td>высшее</td>\n",
       "      <td>0</td>\n",
       "      <td>гражданский брак</td>\n",
       "      <td>1</td>\n",
       "      <td>M</td>\n",
       "      <td>сотрудник</td>\n",
       "      <td>0</td>\n",
       "      <td>128265.720871</td>\n",
       "      <td>сыграть свадьбу</td>\n",
       "    </tr>\n",
       "    <tr>\n",
       "      <td>24</td>\n",
       "      <td>1</td>\n",
       "      <td>338551.952911</td>\n",
       "      <td>57</td>\n",
       "      <td>среднее</td>\n",
       "      <td>1</td>\n",
       "      <td>Не женат / не замужем</td>\n",
       "      <td>4</td>\n",
       "      <td>F</td>\n",
       "      <td>пенсионер</td>\n",
       "      <td>0</td>\n",
       "      <td>290547.235997</td>\n",
       "      <td>операции с коммерческой недвижимостью</td>\n",
       "    </tr>\n",
       "  </tbody>\n",
       "</table>\n",
       "</div>"
      ],
      "text/plain": [
       "    children  days_employed  dob_years            education  education_id  \\\n",
       "0          1   -8437.673028         42               высшее             0   \n",
       "1          1   -4024.803754         36              среднее             1   \n",
       "2          0   -5623.422610         33              Среднее             1   \n",
       "3          3   -4124.747207         32              среднее             1   \n",
       "4          0  340266.072047         53              среднее             1   \n",
       "5          0    -926.185831         27               высшее             0   \n",
       "6          0   -2879.202052         43               высшее             0   \n",
       "7          0    -152.779569         50              СРЕДНЕЕ             1   \n",
       "8          2   -6929.865299         35               ВЫСШЕЕ             0   \n",
       "9          0   -2188.756445         41              среднее             1   \n",
       "10         2   -4171.483647         36               высшее             0   \n",
       "11         0    -792.701887         40              среднее             1   \n",
       "12         0            NaN         65              среднее             1   \n",
       "13         0   -1846.641941         54  неоконченное высшее             2   \n",
       "14         0   -1844.956182         56               высшее             0   \n",
       "15         1    -972.364419         26              среднее             1   \n",
       "16         0   -1719.934226         35              среднее             1   \n",
       "17         0   -2369.999720         33               высшее             0   \n",
       "18         0  400281.136913         53              среднее             1   \n",
       "19         0  -10038.818549         48              СРЕДНЕЕ             1   \n",
       "20         1   -1311.604166         36              среднее             1   \n",
       "21         1    -253.685166         33              среднее             1   \n",
       "22         1   -1766.644138         24              среднее             1   \n",
       "23         0    -272.981385         21               высшее             0   \n",
       "24         1  338551.952911         57              среднее             1   \n",
       "\n",
       "            family_status  family_status_id gender income_type  debt  \\\n",
       "0         женат / замужем                 0      F   сотрудник     0   \n",
       "1         женат / замужем                 0      F   сотрудник     0   \n",
       "2         женат / замужем                 0      M   сотрудник     0   \n",
       "3         женат / замужем                 0      M   сотрудник     0   \n",
       "4        гражданский брак                 1      F   пенсионер     0   \n",
       "5        гражданский брак                 1      M   компаньон     0   \n",
       "6         женат / замужем                 0      F   компаньон     0   \n",
       "7         женат / замужем                 0      M   сотрудник     0   \n",
       "8        гражданский брак                 1      F   сотрудник     0   \n",
       "9         женат / замужем                 0      M   сотрудник     0   \n",
       "10        женат / замужем                 0      M   компаньон     0   \n",
       "11        женат / замужем                 0      F   сотрудник     0   \n",
       "12       гражданский брак                 1      M   пенсионер     0   \n",
       "13        женат / замужем                 0      F   сотрудник     0   \n",
       "14       гражданский брак                 1      F   компаньон     1   \n",
       "15        женат / замужем                 0      F   сотрудник     0   \n",
       "16        женат / замужем                 0      F   сотрудник     0   \n",
       "17       гражданский брак                 1      M   сотрудник     0   \n",
       "18         вдовец / вдова                 2      F   пенсионер     0   \n",
       "19              в разводе                 3      F   сотрудник     0   \n",
       "20        женат / замужем                 0      M   сотрудник     0   \n",
       "21       гражданский брак                 1      F   сотрудник     0   \n",
       "22       гражданский брак                 1      F   сотрудник     0   \n",
       "23       гражданский брак                 1      M   сотрудник     0   \n",
       "24  Не женат / не замужем                 4      F   пенсионер     0   \n",
       "\n",
       "     total_income                                 purpose  \n",
       "0   253875.639453                           покупка жилья  \n",
       "1   112080.014102                 приобретение автомобиля  \n",
       "2   145885.952297                           покупка жилья  \n",
       "3   267628.550329              дополнительное образование  \n",
       "4   158616.077870                         сыграть свадьбу  \n",
       "5   255763.565419                           покупка жилья  \n",
       "6   240525.971920                       операции с жильем  \n",
       "7   135823.934197                             образование  \n",
       "8    95856.832424                   на проведение свадьбы  \n",
       "9   144425.938277                 покупка жилья для семьи  \n",
       "10  113943.491460                    покупка недвижимости  \n",
       "11   77069.234271       покупка коммерческой недвижимости  \n",
       "12            NaN                         сыграть свадьбу  \n",
       "13  130458.228857                 приобретение автомобиля  \n",
       "14  165127.911772              покупка жилой недвижимости  \n",
       "15  116820.904450  строительство собственной недвижимости  \n",
       "16  289202.704229                            недвижимость  \n",
       "17   90410.586745              строительство недвижимости  \n",
       "18   56823.777243      на покупку подержанного автомобиля  \n",
       "19  242831.107982            на покупку своего автомобиля  \n",
       "20  209552.644578                            недвижимость  \n",
       "21  131812.203909                 приобретение автомобиля  \n",
       "22  149681.140731      на покупку подержанного автомобиля  \n",
       "23  128265.720871                         сыграть свадьбу  \n",
       "24  290547.235997   операции с коммерческой недвижимостью  "
      ]
     },
     "metadata": {},
     "output_type": "display_data"
    }
   ],
   "source": [
    "import pandas as pd\n",
    "data = pd.read_csv('/datasets/data.csv')\n",
    "from IPython.display import display\n",
    "display(data.head(25))\n",
    "\n",
    "# Для начала используется метод head(25), чтобы получить больше распечатаных значений - \n",
    "# иначе таблица выводится в сокращённом формате и мы не сможем сразу \"на глаз\" оценить качество данных на наличие дубликатов, пропусков итд.\n"
   ]
  },
  {
   "cell_type": "code",
   "execution_count": 2,
   "metadata": {
    "scrolled": true
   },
   "outputs": [
    {
     "name": "stdout",
     "output_type": "stream",
     "text": [
      "<class 'pandas.core.frame.DataFrame'>\n",
      "RangeIndex: 21525 entries, 0 to 21524\n",
      "Data columns (total 12 columns):\n",
      "children            21525 non-null int64\n",
      "days_employed       19351 non-null float64\n",
      "dob_years           21525 non-null int64\n",
      "education           21525 non-null object\n",
      "education_id        21525 non-null int64\n",
      "family_status       21525 non-null object\n",
      "family_status_id    21525 non-null int64\n",
      "gender              21525 non-null object\n",
      "income_type         21525 non-null object\n",
      "debt                21525 non-null int64\n",
      "total_income        19351 non-null float64\n",
      "purpose             21525 non-null object\n",
      "dtypes: float64(2), int64(5), object(5)\n",
      "memory usage: 2.0+ MB\n"
     ]
    }
   ],
   "source": [
    "data.info()\n",
    "# Используем info() чтобы выявить столбцы с пропусками."
   ]
  },
  {
   "cell_type": "markdown",
   "metadata": {},
   "source": [
    "Итак, есть пропуски в `days_employed` и в `total_income`, а ещё мы сразу замечаем, что в `days_employed` есть отрицательные значения, от которых тоже нужно будет избавляться."
   ]
  },
  {
   "cell_type": "markdown",
   "metadata": {},
   "source": [
    "### Выводы насчёт `days_employed` и `total_income`<a id=\"days_income_review\"></a>"
   ]
  },
  {
   "cell_type": "markdown",
   "metadata": {},
   "source": [
    "**Анализируем проблематичные данные в `days_employed` и `total_income`:**"
   ]
  },
  {
   "cell_type": "code",
   "execution_count": 3,
   "metadata": {},
   "outputs": [
    {
     "name": "stdout",
     "output_type": "stream",
     "text": [
      "10.10% - доля пропусков в \"days_employed\"\n",
      "10.10% - доля пропусков в \"total_income\"\n"
     ]
    }
   ],
   "source": [
    "# Расчитаем доли пропусков в столбцах 'days_employed' и 'total_income':\n",
    "ratio_days_employed = data['days_employed'].isnull().sum() / (data['days_employed'].count() + data['days_employed'].isnull().sum())\n",
    "ratio_total_income = data['total_income'].isnull().sum() / (data['total_income'].count() + data['total_income'].isnull().sum())\n",
    "print('{:.2%} - доля пропусков в \"days_employed\"\\n{:.2%} - доля пропусков в \"total_income\"'.format(ratio_days_employed, ratio_total_income))"
   ]
  },
  {
   "cell_type": "markdown",
   "metadata": {},
   "source": [
    "Видимо, около одной десятой доли клиентов не указали свой стаж и месячный доход, либо же произошёл сбой при создании таблицы. Это уже весьма значимая часть данных и мы не можем просто удалить эти строки. Давайте проверим их тип занятости - может это одни безработные, которые не имееют никакого дохода или стажа на момент заполнения анкеты в банке? Тогда бы мы могли заполнить пропуски просто значением '0'..."
   ]
  },
  {
   "cell_type": "code",
   "execution_count": 4,
   "metadata": {},
   "outputs": [
    {
     "data": {
      "text/html": [
       "<div>\n",
       "<style scoped>\n",
       "    .dataframe tbody tr th:only-of-type {\n",
       "        vertical-align: middle;\n",
       "    }\n",
       "\n",
       "    .dataframe tbody tr th {\n",
       "        vertical-align: top;\n",
       "    }\n",
       "\n",
       "    .dataframe thead th {\n",
       "        text-align: right;\n",
       "    }\n",
       "</style>\n",
       "<table border=\"1\" class=\"dataframe\">\n",
       "  <thead>\n",
       "    <tr style=\"text-align: right;\">\n",
       "      <th></th>\n",
       "      <th>null_days</th>\n",
       "    </tr>\n",
       "  </thead>\n",
       "  <tbody>\n",
       "    <tr>\n",
       "      <td>сотрудник</td>\n",
       "      <td>1105</td>\n",
       "    </tr>\n",
       "    <tr>\n",
       "      <td>компаньон</td>\n",
       "      <td>508</td>\n",
       "    </tr>\n",
       "    <tr>\n",
       "      <td>пенсионер</td>\n",
       "      <td>413</td>\n",
       "    </tr>\n",
       "    <tr>\n",
       "      <td>госслужащий</td>\n",
       "      <td>147</td>\n",
       "    </tr>\n",
       "    <tr>\n",
       "      <td>предприниматель</td>\n",
       "      <td>1</td>\n",
       "    </tr>\n",
       "  </tbody>\n",
       "</table>\n",
       "</div>"
      ],
      "text/plain": [
       "                 null_days\n",
       "сотрудник             1105\n",
       "компаньон              508\n",
       "пенсионер              413\n",
       "госслужащий            147\n",
       "предприниматель          1"
      ]
     },
     "execution_count": 4,
     "metadata": {},
     "output_type": "execute_result"
    }
   ],
   "source": [
    "# Проверяем наличие пропусков в столбце со стажем по отношению к типу занятости:\n",
    "a = 0\n",
    "import math\n",
    "type_vs_days = pd.DataFrame(columns=['days_employed'])\n",
    "while a < len(data['days_employed']):\n",
    "    if math.isnan(data.loc[a, 'days_employed']) == True:\n",
    "        inc_type = data.loc[a, 'income_type']\n",
    "        type_vs_days = type_vs_days.append({'days_employed': inc_type}, ignore_index=True)\n",
    "    a +=1\n",
    "null_days = pd.DataFrame(columns=['null_days'])\n",
    "null_days['null_days'] = type_vs_days['days_employed'].value_counts()\n",
    "null_days"
   ]
  },
  {
   "cell_type": "code",
   "execution_count": 5,
   "metadata": {},
   "outputs": [
    {
     "data": {
      "text/html": [
       "<div>\n",
       "<style scoped>\n",
       "    .dataframe tbody tr th:only-of-type {\n",
       "        vertical-align: middle;\n",
       "    }\n",
       "\n",
       "    .dataframe tbody tr th {\n",
       "        vertical-align: top;\n",
       "    }\n",
       "\n",
       "    .dataframe thead th {\n",
       "        text-align: right;\n",
       "    }\n",
       "</style>\n",
       "<table border=\"1\" class=\"dataframe\">\n",
       "  <thead>\n",
       "    <tr style=\"text-align: right;\">\n",
       "      <th></th>\n",
       "      <th>null_income</th>\n",
       "    </tr>\n",
       "  </thead>\n",
       "  <tbody>\n",
       "    <tr>\n",
       "      <td>сотрудник</td>\n",
       "      <td>1105</td>\n",
       "    </tr>\n",
       "    <tr>\n",
       "      <td>компаньон</td>\n",
       "      <td>508</td>\n",
       "    </tr>\n",
       "    <tr>\n",
       "      <td>пенсионер</td>\n",
       "      <td>413</td>\n",
       "    </tr>\n",
       "    <tr>\n",
       "      <td>госслужащий</td>\n",
       "      <td>147</td>\n",
       "    </tr>\n",
       "    <tr>\n",
       "      <td>предприниматель</td>\n",
       "      <td>1</td>\n",
       "    </tr>\n",
       "  </tbody>\n",
       "</table>\n",
       "</div>"
      ],
      "text/plain": [
       "                 null_income\n",
       "сотрудник               1105\n",
       "компаньон                508\n",
       "пенсионер                413\n",
       "госслужащий              147\n",
       "предприниматель            1"
      ]
     },
     "execution_count": 5,
     "metadata": {},
     "output_type": "execute_result"
    }
   ],
   "source": [
    "# Повторяем этот-же процесс для столбца с доходом:\n",
    "b = 0\n",
    "type_vs_income = pd.DataFrame(columns=['total_income'])\n",
    "while b < len(data['total_income']):\n",
    "    if math.isnan(data.loc[b, 'total_income']) == True:\n",
    "        inc_type = data.loc[b, 'income_type']\n",
    "        type_vs_income = type_vs_income.append({'total_income': inc_type}, ignore_index=True)\n",
    "    b +=1\n",
    "null_income = pd.DataFrame(columns=['null_income'])\n",
    "null_income['null_income'] = type_vs_income['total_income'].value_counts()\n",
    "null_income"
   ]
  },
  {
   "cell_type": "markdown",
   "metadata": {},
   "source": [
    "Заполнить пропуски '0' не получится, ведь у пенсионеров не может быть нулевой стаж (в РФ наличие трудового стажа - один из критериев получения пенсии), также как и у работающего сотрудника или госслужащего не может быть нулевой доход.\n",
    "\n"
   ]
  },
  {
   "cell_type": "code",
   "execution_count": 6,
   "metadata": {},
   "outputs": [
    {
     "data": {
      "text/html": [
       "<div>\n",
       "<style scoped>\n",
       "    .dataframe tbody tr th:only-of-type {\n",
       "        vertical-align: middle;\n",
       "    }\n",
       "\n",
       "    .dataframe tbody tr th {\n",
       "        vertical-align: top;\n",
       "    }\n",
       "\n",
       "    .dataframe thead th {\n",
       "        text-align: right;\n",
       "    }\n",
       "</style>\n",
       "<table border=\"1\" class=\"dataframe\">\n",
       "  <thead>\n",
       "    <tr style=\"text-align: right;\">\n",
       "      <th></th>\n",
       "      <th>count</th>\n",
       "      <th>null_days</th>\n",
       "      <th>ratio_null_days</th>\n",
       "      <th>null_income</th>\n",
       "      <th>ratio_null_income</th>\n",
       "    </tr>\n",
       "    <tr>\n",
       "      <th>income_type</th>\n",
       "      <th></th>\n",
       "      <th></th>\n",
       "      <th></th>\n",
       "      <th></th>\n",
       "      <th></th>\n",
       "    </tr>\n",
       "  </thead>\n",
       "  <tbody>\n",
       "    <tr>\n",
       "      <td>безработный</td>\n",
       "      <td>2</td>\n",
       "      <td>NaN</td>\n",
       "      <td>NaN</td>\n",
       "      <td>NaN</td>\n",
       "      <td>NaN</td>\n",
       "    </tr>\n",
       "    <tr>\n",
       "      <td>в декрете</td>\n",
       "      <td>1</td>\n",
       "      <td>NaN</td>\n",
       "      <td>NaN</td>\n",
       "      <td>NaN</td>\n",
       "      <td>NaN</td>\n",
       "    </tr>\n",
       "    <tr>\n",
       "      <td>госслужащий</td>\n",
       "      <td>1459</td>\n",
       "      <td>147.0</td>\n",
       "      <td>10.075394</td>\n",
       "      <td>147.0</td>\n",
       "      <td>10.075394</td>\n",
       "    </tr>\n",
       "    <tr>\n",
       "      <td>компаньон</td>\n",
       "      <td>5085</td>\n",
       "      <td>508.0</td>\n",
       "      <td>9.990167</td>\n",
       "      <td>508.0</td>\n",
       "      <td>9.990167</td>\n",
       "    </tr>\n",
       "    <tr>\n",
       "      <td>пенсионер</td>\n",
       "      <td>3856</td>\n",
       "      <td>413.0</td>\n",
       "      <td>10.710581</td>\n",
       "      <td>413.0</td>\n",
       "      <td>10.710581</td>\n",
       "    </tr>\n",
       "    <tr>\n",
       "      <td>предприниматель</td>\n",
       "      <td>2</td>\n",
       "      <td>1.0</td>\n",
       "      <td>50.000000</td>\n",
       "      <td>1.0</td>\n",
       "      <td>50.000000</td>\n",
       "    </tr>\n",
       "    <tr>\n",
       "      <td>сотрудник</td>\n",
       "      <td>11119</td>\n",
       "      <td>1105.0</td>\n",
       "      <td>9.937944</td>\n",
       "      <td>1105.0</td>\n",
       "      <td>9.937944</td>\n",
       "    </tr>\n",
       "    <tr>\n",
       "      <td>студент</td>\n",
       "      <td>1</td>\n",
       "      <td>NaN</td>\n",
       "      <td>NaN</td>\n",
       "      <td>NaN</td>\n",
       "      <td>NaN</td>\n",
       "    </tr>\n",
       "  </tbody>\n",
       "</table>\n",
       "</div>"
      ],
      "text/plain": [
       "                 count  null_days  ratio_null_days  null_income  \\\n",
       "income_type                                                       \n",
       "безработный          2        NaN              NaN          NaN   \n",
       "в декрете            1        NaN              NaN          NaN   \n",
       "госслужащий       1459      147.0        10.075394        147.0   \n",
       "компаньон         5085      508.0         9.990167        508.0   \n",
       "пенсионер         3856      413.0        10.710581        413.0   \n",
       "предприниматель      2        1.0        50.000000          1.0   \n",
       "сотрудник        11119     1105.0         9.937944       1105.0   \n",
       "студент              1        NaN              NaN          NaN   \n",
       "\n",
       "                 ratio_null_income  \n",
       "income_type                         \n",
       "безработный                    NaN  \n",
       "в декрете                      NaN  \n",
       "госслужащий              10.075394  \n",
       "компаньон                 9.990167  \n",
       "пенсионер                10.710581  \n",
       "предприниматель          50.000000  \n",
       "сотрудник                 9.937944  \n",
       "студент                        NaN  "
      ]
     },
     "execution_count": 6,
     "metadata": {},
     "output_type": "execute_result"
    }
   ],
   "source": [
    "# Посчитаем долю пропусков по отношению к общему количеству данных по виду деятельности:\n",
    "data_by_type = data.groupby('income_type').agg({'income_type': ['count']})\n",
    "data_by_type.columns = data_by_type.columns.droplevel(0)\n",
    "\n",
    "# Доля пропусков в столбце со стажем:\n",
    "data_by_type['null_days'] = null_days['null_days']\n",
    "data_by_type['ratio_null_days'] = null_days['null_days']/data_by_type['count'] * 100\n",
    "\n",
    "# Доля пропусков в столбце с доходом:\n",
    "data_by_type['null_income'] = null_income['null_income']\n",
    "data_by_type['ratio_null_income'] = null_income['null_income']/data_by_type['count'] * 100\n",
    "data_by_type"
   ]
  },
  {
   "cell_type": "markdown",
   "metadata": {},
   "source": [
    "Доля пропусков в большинстве случаев - около 10%, их мы можем заменить с помощью среднего или медианы из `non-NaN` значений. Вопрос возникает с предпринемателем - их всего 2 и одно из значений пропущено. Придётся заменить единственным имеющимся непропущенным значением, но надо иметь ввиду, что это одно значение - нерепрезентативная выборка!\n"
   ]
  },
  {
   "cell_type": "markdown",
   "metadata": {},
   "source": [
    "Прежде чем делать выводы по столбцам `days_employed` и `total_income` не дурно проверить, нет ли в наших данных неправдоподобно-больших стажей. Четвёртая строка со значением `340266.072047` дней (или 932 года!) выглядит проблематично."
   ]
  },
  {
   "cell_type": "code",
   "execution_count": 7,
   "metadata": {},
   "outputs": [
    {
     "data": {
      "text/html": [
       "<div>\n",
       "<style scoped>\n",
       "    .dataframe tbody tr th:only-of-type {\n",
       "        vertical-align: middle;\n",
       "    }\n",
       "\n",
       "    .dataframe tbody tr th {\n",
       "        vertical-align: top;\n",
       "    }\n",
       "\n",
       "    .dataframe thead th {\n",
       "        text-align: right;\n",
       "    }\n",
       "</style>\n",
       "<table border=\"1\" class=\"dataframe\">\n",
       "  <thead>\n",
       "    <tr style=\"text-align: right;\">\n",
       "      <th></th>\n",
       "      <th>children</th>\n",
       "      <th>days_employed</th>\n",
       "      <th>dob_years</th>\n",
       "      <th>education</th>\n",
       "      <th>education_id</th>\n",
       "      <th>family_status</th>\n",
       "      <th>family_status_id</th>\n",
       "      <th>gender</th>\n",
       "      <th>income_type</th>\n",
       "      <th>debt</th>\n",
       "      <th>total_income</th>\n",
       "      <th>purpose</th>\n",
       "      <th>years</th>\n",
       "    </tr>\n",
       "  </thead>\n",
       "  <tbody>\n",
       "    <tr>\n",
       "      <td>6954</td>\n",
       "      <td>0</td>\n",
       "      <td>401755.400475</td>\n",
       "      <td>56</td>\n",
       "      <td>среднее</td>\n",
       "      <td>1</td>\n",
       "      <td>вдовец / вдова</td>\n",
       "      <td>2</td>\n",
       "      <td>F</td>\n",
       "      <td>пенсионер</td>\n",
       "      <td>0</td>\n",
       "      <td>176278.441171</td>\n",
       "      <td>ремонт жилью</td>\n",
       "      <td>1100.699727</td>\n",
       "    </tr>\n",
       "    <tr>\n",
       "      <td>10006</td>\n",
       "      <td>0</td>\n",
       "      <td>401715.811749</td>\n",
       "      <td>69</td>\n",
       "      <td>высшее</td>\n",
       "      <td>0</td>\n",
       "      <td>Не женат / не замужем</td>\n",
       "      <td>4</td>\n",
       "      <td>F</td>\n",
       "      <td>пенсионер</td>\n",
       "      <td>0</td>\n",
       "      <td>57390.256908</td>\n",
       "      <td>получение образования</td>\n",
       "      <td>1100.591265</td>\n",
       "    </tr>\n",
       "    <tr>\n",
       "      <td>7664</td>\n",
       "      <td>1</td>\n",
       "      <td>401675.093434</td>\n",
       "      <td>61</td>\n",
       "      <td>среднее</td>\n",
       "      <td>1</td>\n",
       "      <td>женат / замужем</td>\n",
       "      <td>0</td>\n",
       "      <td>F</td>\n",
       "      <td>пенсионер</td>\n",
       "      <td>0</td>\n",
       "      <td>126214.519212</td>\n",
       "      <td>операции с жильем</td>\n",
       "      <td>1100.479708</td>\n",
       "    </tr>\n",
       "    <tr>\n",
       "      <td>2156</td>\n",
       "      <td>0</td>\n",
       "      <td>401674.466633</td>\n",
       "      <td>60</td>\n",
       "      <td>среднее</td>\n",
       "      <td>1</td>\n",
       "      <td>женат / замужем</td>\n",
       "      <td>0</td>\n",
       "      <td>M</td>\n",
       "      <td>пенсионер</td>\n",
       "      <td>0</td>\n",
       "      <td>325395.724541</td>\n",
       "      <td>автомобили</td>\n",
       "      <td>1100.477991</td>\n",
       "    </tr>\n",
       "    <tr>\n",
       "      <td>7794</td>\n",
       "      <td>0</td>\n",
       "      <td>401663.850046</td>\n",
       "      <td>61</td>\n",
       "      <td>среднее</td>\n",
       "      <td>1</td>\n",
       "      <td>гражданский брак</td>\n",
       "      <td>1</td>\n",
       "      <td>F</td>\n",
       "      <td>пенсионер</td>\n",
       "      <td>0</td>\n",
       "      <td>48286.441362</td>\n",
       "      <td>свадьба</td>\n",
       "      <td>1100.448904</td>\n",
       "    </tr>\n",
       "  </tbody>\n",
       "</table>\n",
       "</div>"
      ],
      "text/plain": [
       "       children  days_employed  dob_years education  education_id  \\\n",
       "6954          0  401755.400475         56   среднее             1   \n",
       "10006         0  401715.811749         69    высшее             0   \n",
       "7664          1  401675.093434         61   среднее             1   \n",
       "2156          0  401674.466633         60   среднее             1   \n",
       "7794          0  401663.850046         61   среднее             1   \n",
       "\n",
       "               family_status  family_status_id gender income_type  debt  \\\n",
       "6954          вдовец / вдова                 2      F   пенсионер     0   \n",
       "10006  Не женат / не замужем                 4      F   пенсионер     0   \n",
       "7664         женат / замужем                 0      F   пенсионер     0   \n",
       "2156         женат / замужем                 0      M   пенсионер     0   \n",
       "7794        гражданский брак                 1      F   пенсионер     0   \n",
       "\n",
       "        total_income                purpose        years  \n",
       "6954   176278.441171           ремонт жилью  1100.699727  \n",
       "10006   57390.256908  получение образования  1100.591265  \n",
       "7664   126214.519212      операции с жильем  1100.479708  \n",
       "2156   325395.724541             автомобили  1100.477991  \n",
       "7794    48286.441362                свадьба  1100.448904  "
      ]
     },
     "execution_count": 7,
     "metadata": {},
     "output_type": "execute_result"
    }
   ],
   "source": [
    "# Добавим вспомогательный столбец 'years' с общим стажем переведённым в года, отсортируем его по убыванию и выведем первые 5 значений.\n",
    "data['years'] = data['days_employed'] / 365\n",
    "data.sort_values(by = 'years', ascending = False).head(5)"
   ]
  },
  {
   "cell_type": "markdown",
   "metadata": {},
   "source": [
    "Даже у пенционеров не может быть стаж 1100 лет. Допустим, что средний пенсионный возраст с учётом пола, вида деятельности и пенсионных реформ - 60 лет, а клиенты банка работают с 18 лет, или как только достигают совершеннолетия. Значит, максимальньный трудовой стаж (даже у пенсионеров) - 42 года. Посмотрим, как распределены эти сверхвысокие стажи по отношению к виду деятельности:\n"
   ]
  },
  {
   "cell_type": "code",
   "execution_count": 8,
   "metadata": {},
   "outputs": [
    {
     "data": {
      "text/html": [
       "<div>\n",
       "<style scoped>\n",
       "    .dataframe tbody tr th:only-of-type {\n",
       "        vertical-align: middle;\n",
       "    }\n",
       "\n",
       "    .dataframe tbody tr th {\n",
       "        vertical-align: top;\n",
       "    }\n",
       "\n",
       "    .dataframe thead th {\n",
       "        text-align: right;\n",
       "    }\n",
       "</style>\n",
       "<table border=\"1\" class=\"dataframe\">\n",
       "  <thead>\n",
       "    <tr style=\"text-align: right;\">\n",
       "      <th></th>\n",
       "      <th>count</th>\n",
       "      <th>null_days</th>\n",
       "      <th>ratio_null_days</th>\n",
       "      <th>null_income</th>\n",
       "      <th>ratio_null_income</th>\n",
       "      <th>extreme_years</th>\n",
       "      <th>negative_years</th>\n",
       "    </tr>\n",
       "    <tr>\n",
       "      <th>income_type</th>\n",
       "      <th></th>\n",
       "      <th></th>\n",
       "      <th></th>\n",
       "      <th></th>\n",
       "      <th></th>\n",
       "      <th></th>\n",
       "      <th></th>\n",
       "    </tr>\n",
       "  </thead>\n",
       "  <tbody>\n",
       "    <tr>\n",
       "      <td>безработный</td>\n",
       "      <td>2</td>\n",
       "      <td>NaN</td>\n",
       "      <td>NaN</td>\n",
       "      <td>NaN</td>\n",
       "      <td>NaN</td>\n",
       "      <td>2.0</td>\n",
       "      <td>NaN</td>\n",
       "    </tr>\n",
       "    <tr>\n",
       "      <td>в декрете</td>\n",
       "      <td>1</td>\n",
       "      <td>NaN</td>\n",
       "      <td>NaN</td>\n",
       "      <td>NaN</td>\n",
       "      <td>NaN</td>\n",
       "      <td>NaN</td>\n",
       "      <td>1.0</td>\n",
       "    </tr>\n",
       "    <tr>\n",
       "      <td>госслужащий</td>\n",
       "      <td>1459</td>\n",
       "      <td>147.0</td>\n",
       "      <td>10.075394</td>\n",
       "      <td>147.0</td>\n",
       "      <td>10.075394</td>\n",
       "      <td>NaN</td>\n",
       "      <td>1312.0</td>\n",
       "    </tr>\n",
       "    <tr>\n",
       "      <td>компаньон</td>\n",
       "      <td>5085</td>\n",
       "      <td>508.0</td>\n",
       "      <td>9.990167</td>\n",
       "      <td>508.0</td>\n",
       "      <td>9.990167</td>\n",
       "      <td>3.0</td>\n",
       "      <td>4577.0</td>\n",
       "    </tr>\n",
       "    <tr>\n",
       "      <td>пенсионер</td>\n",
       "      <td>3856</td>\n",
       "      <td>413.0</td>\n",
       "      <td>10.710581</td>\n",
       "      <td>413.0</td>\n",
       "      <td>10.710581</td>\n",
       "      <td>3443.0</td>\n",
       "      <td>NaN</td>\n",
       "    </tr>\n",
       "    <tr>\n",
       "      <td>предприниматель</td>\n",
       "      <td>2</td>\n",
       "      <td>1.0</td>\n",
       "      <td>50.000000</td>\n",
       "      <td>1.0</td>\n",
       "      <td>50.000000</td>\n",
       "      <td>NaN</td>\n",
       "      <td>1.0</td>\n",
       "    </tr>\n",
       "    <tr>\n",
       "      <td>сотрудник</td>\n",
       "      <td>11119</td>\n",
       "      <td>1105.0</td>\n",
       "      <td>9.937944</td>\n",
       "      <td>1105.0</td>\n",
       "      <td>9.937944</td>\n",
       "      <td>7.0</td>\n",
       "      <td>10014.0</td>\n",
       "    </tr>\n",
       "    <tr>\n",
       "      <td>студент</td>\n",
       "      <td>1</td>\n",
       "      <td>NaN</td>\n",
       "      <td>NaN</td>\n",
       "      <td>NaN</td>\n",
       "      <td>NaN</td>\n",
       "      <td>NaN</td>\n",
       "      <td>1.0</td>\n",
       "    </tr>\n",
       "  </tbody>\n",
       "</table>\n",
       "</div>"
      ],
      "text/plain": [
       "                 count  null_days  ratio_null_days  null_income  \\\n",
       "income_type                                                       \n",
       "безработный          2        NaN              NaN          NaN   \n",
       "в декрете            1        NaN              NaN          NaN   \n",
       "госслужащий       1459      147.0        10.075394        147.0   \n",
       "компаньон         5085      508.0         9.990167        508.0   \n",
       "пенсионер         3856      413.0        10.710581        413.0   \n",
       "предприниматель      2        1.0        50.000000          1.0   \n",
       "сотрудник        11119     1105.0         9.937944       1105.0   \n",
       "студент              1        NaN              NaN          NaN   \n",
       "\n",
       "                 ratio_null_income  extreme_years  negative_years  \n",
       "income_type                                                        \n",
       "безработный                    NaN            2.0             NaN  \n",
       "в декрете                      NaN            NaN             1.0  \n",
       "госслужащий              10.075394            NaN          1312.0  \n",
       "компаньон                 9.990167            3.0          4577.0  \n",
       "пенсионер                10.710581         3443.0             NaN  \n",
       "предприниматель          50.000000            NaN             1.0  \n",
       "сотрудник                 9.937944            7.0         10014.0  \n",
       "студент                        NaN            NaN             1.0  "
      ]
     },
     "execution_count": 8,
     "metadata": {},
     "output_type": "execute_result"
    }
   ],
   "source": [
    "extreme_years = pd.DataFrame(columns=['extreme_years'])\n",
    "# Важно не забыть, что значения 'years', также как и 'days_employed' могут быть отрицательными, поэтому для сравнения используем функцию 'abs()'.\n",
    "extreme_years['extreme_years'] = data.loc[abs(data['years']) > 42]['income_type'].value_counts()\n",
    "\n",
    "# Сразу добавим эти значения в нашу таблицу 'data_by_type':\n",
    "data_by_type['extreme_years'] = extreme_years['extreme_years']\n",
    "\n",
    "# Заодним проверим распределение отрицательных значений, может они присутсвуют только в отдельных категориях типа занятости и совпадают с наличием сверхвысоких стажей?\n",
    "negative_years = pd.DataFrame(columns=['negative_years'])\n",
    "negative_years['negative_years'] = data.loc[data['years'] < 0]['income_type'].value_counts()\n",
    "data_by_type['negative_years'] = negative_years['negative_years']\n",
    "\n",
    "data_by_type"
   ]
  },
  {
   "cell_type": "markdown",
   "metadata": {},
   "source": [
    "Отрицательные стажи не совпадают со сверхвысокими данными - это два отдельных вопроса.\n",
    "Но мы замечаем проблему у пенсионеров и безработных: у первых `count = extreme_years`, а у вторых `count = null + extreme_years` (3856 - 3443 = 413). Так как у нас нет других, более адекватных значений стажей этих двух категорий, придётся использовать то что имеем, так как пропуски всё рабно нужно заполнить, а удалив всех пенсионеров и безработных мы рискуем потерять значимую часть данных."
   ]
  },
  {
   "cell_type": "markdown",
   "metadata": {},
   "source": [
    "**Финальные выводы о данных в `days_employed` и `total_income`:**"
   ]
  },
  {
   "cell_type": "markdown",
   "metadata": {},
   "source": [
    "1. Пропуски и отрицательные или слишком большие значения в столбце `days_employed` появились либо из-за человеческого фактора, либо из-за сбоя в банковской системе. Сначала мы заменим все отрицательные числа их модулем, а пропущеные значения мы будем заменять на среднее значение стажа для данного вида деятельности. Также нужно перебести тип данных `float64` (= вещественные числа) на `int64` (= целые числа).\n",
    "2. Пропуски в столбце `total_income` могли возникнуть по аналогичным причинам, заменять мы их также будем аналогичным способом. Тип данных этого столбца также нужно поменять с `float64` на `int64`.\n",
    "\n",
    "\n"
   ]
  },
  {
   "cell_type": "markdown",
   "metadata": {},
   "source": [
    "### Выводы насчёт `children`<a id=\"children_review\"></a>"
   ]
  },
  {
   "cell_type": "code",
   "execution_count": 9,
   "metadata": {},
   "outputs": [
    {
     "data": {
      "text/plain": [
       " 0     14149\n",
       " 1      4818\n",
       " 2      2055\n",
       " 3       330\n",
       " 20       76\n",
       "-1        47\n",
       " 4        41\n",
       " 5         9\n",
       "Name: children, dtype: int64"
      ]
     },
     "execution_count": 9,
     "metadata": {},
     "output_type": "execute_result"
    }
   ],
   "source": [
    "data['children'].value_counts()"
   ]
  },
  {
   "cell_type": "markdown",
   "metadata": {},
   "source": [
    "Значения 20 детей и -1 ребёнок выглядят подозрительно."
   ]
  },
  {
   "cell_type": "code",
   "execution_count": 10,
   "metadata": {},
   "outputs": [
    {
     "name": "stdout",
     "output_type": "stream",
     "text": [
      "0.218% - доля \"-1\" ребёнка\n",
      "0.353% - доля \"20\" детей\n"
     ]
    }
   ],
   "source": [
    "#Расчитываем долю странных значений '-1' и '20' в столбце 'children':\n",
    "print('{:.3%} - доля \"-1\" ребёнка'.format(47 / data['children'].count()))\n",
    "print('{:.3%} - доля \"20\" детей'.format(76 / data['children'].count()))\n"
   ]
  },
  {
   "cell_type": "markdown",
   "metadata": {},
   "source": [
    "**Причины возникновения и возможные пути замены странных данных:**\n",
    "\n",
    "Величины '-1' и '20' скорее всего возникли из-за невнимательного ввода данных или из-за сбоя в банковской системы генерирования таблицы с данными. Мы их можем либо удалить как ошибочные, потому что их доля не значительна по сравнению с количеством данных в выборке, либо заменить их соответсвенно на значения '1' и '2', которые наверное подразумевались под странными числами '-1' и '20'."
   ]
  },
  {
   "cell_type": "markdown",
   "metadata": {},
   "source": [
    "### Выводы насчёт `dob_years`<a id=\"age_review\"></a>"
   ]
  },
  {
   "cell_type": "code",
   "execution_count": 11,
   "metadata": {},
   "outputs": [
    {
     "data": {
      "text/plain": [
       "0    101\n",
       "Name: dob_years, dtype: int64"
      ]
     },
     "execution_count": 11,
     "metadata": {},
     "output_type": "execute_result"
    }
   ],
   "source": [
    "# Проверяем на наличие нулевых значений в столбце с возрастом:\n",
    "data.loc[data['dob_years'] == 0]['dob_years'].value_counts()"
   ]
  },
  {
   "cell_type": "code",
   "execution_count": 12,
   "metadata": {},
   "outputs": [
    {
     "name": "stdout",
     "output_type": "stream",
     "text": [
      "0.469% - доля нулевых значений возраста клиентов по отношению ко всей выборке\n"
     ]
    }
   ],
   "source": [
    "print('{:.3%} - доля нулевых значений возраста клиентов по отношению ко всей выборке'.format(101 / data['dob_years'].count()))"
   ]
  },
  {
   "cell_type": "markdown",
   "metadata": {},
   "source": [
    "**Причины возникновения и возможные пути замены нулевых значений возраста:**\n",
    "\n",
    "Здесь нет пропусков, но есть 101 нулевое значение, а ведь клиентам банка не может быть 0 лет! Полагаем, клиенты не очень внимательно заполняли банковскую анкету или, опять же, произошёл сбой в системе генерирования таблицы данных. Эти нулевые значения составляют не значительную часть всей выборки и мы их можем удалить, но можно их также попробовать заменить на среднее значение возраста для данного типа деятельности.\n"
   ]
  },
  {
   "cell_type": "markdown",
   "metadata": {},
   "source": [
    "**Примечание:** эти нулевые значения припятсвуют нам в выявлении других нестандартных значений возраста (например, \"восьмилетних госслужащих или пенсионеров\"), нам нужно будет проверит столбец на наличие таких странных данных уже *после* удаления нулевых значений и провести соответсвующию предобработку.\n"
   ]
  },
  {
   "cell_type": "markdown",
   "metadata": {},
   "source": [
    "### Выводы насчёт `education` и `education_id`<a id=\"education_review\"></a>"
   ]
  },
  {
   "cell_type": "code",
   "execution_count": 13,
   "metadata": {},
   "outputs": [
    {
     "data": {
      "text/plain": [
       "среднее                13750\n",
       "высшее                  4718\n",
       "СРЕДНЕЕ                  772\n",
       "Среднее                  711\n",
       "неоконченное высшее      668\n",
       "ВЫСШЕЕ                   274\n",
       "Высшее                   268\n",
       "начальное                250\n",
       "Неоконченное высшее       47\n",
       "НЕОКОНЧЕННОЕ ВЫСШЕЕ       29\n",
       "НАЧАЛЬНОЕ                 17\n",
       "Начальное                 15\n",
       "ученая степень             4\n",
       "Ученая степень             1\n",
       "УЧЕНАЯ СТЕПЕНЬ             1\n",
       "Name: education, dtype: int64"
      ]
     },
     "execution_count": 13,
     "metadata": {},
     "output_type": "execute_result"
    }
   ],
   "source": [
    "data['education'].value_counts()"
   ]
  },
  {
   "cell_type": "code",
   "execution_count": 14,
   "metadata": {},
   "outputs": [
    {
     "data": {
      "text/plain": [
       "1    15233\n",
       "0     5260\n",
       "2      744\n",
       "3      282\n",
       "4        6\n",
       "Name: education_id, dtype: int64"
      ]
     },
     "execution_count": 14,
     "metadata": {},
     "output_type": "execute_result"
    }
   ],
   "source": [
    "data['education_id'].value_counts()"
   ]
  },
  {
   "cell_type": "markdown",
   "metadata": {},
   "source": [
    "**Причины возникновения и способ замены больших букв в значениях столбца `education`:**\n",
    "\n",
    "Здесь нужно будет применить lower(), чтобы количества уникальных значений идентификаторов уровня образования совпадали с количествами уникальных значений названий уровня образования. Отличающийся регистр букв возможен из-за невнимательности, недостатка инструкций клиентам или из-за сбоев при обработке данных банком."
   ]
  },
  {
   "cell_type": "markdown",
   "metadata": {},
   "source": [
    "### Выводы насчёт `family_status` и `family_status_id`<a id=\"family_review\"></a>"
   ]
  },
  {
   "cell_type": "code",
   "execution_count": 15,
   "metadata": {},
   "outputs": [
    {
     "data": {
      "text/plain": [
       "женат / замужем          12380\n",
       "гражданский брак          4177\n",
       "Не женат / не замужем     2813\n",
       "в разводе                 1195\n",
       "вдовец / вдова             960\n",
       "Name: family_status, dtype: int64"
      ]
     },
     "execution_count": 15,
     "metadata": {},
     "output_type": "execute_result"
    }
   ],
   "source": [
    "data['family_status'].value_counts()"
   ]
  },
  {
   "cell_type": "code",
   "execution_count": 16,
   "metadata": {},
   "outputs": [
    {
     "data": {
      "text/plain": [
       "0    12380\n",
       "1     4177\n",
       "4     2813\n",
       "3     1195\n",
       "2      960\n",
       "Name: family_status_id, dtype: int64"
      ]
     },
     "execution_count": 16,
     "metadata": {},
     "output_type": "execute_result"
    }
   ],
   "source": [
    "data['family_status_id'].value_counts()"
   ]
  },
  {
   "cell_type": "markdown",
   "metadata": {},
   "source": [
    "**Причины возникновения и способ замены больших букв в значениях столбца `family_status`:**\n",
    "\n",
    "Эти два столбца совпадают, но нужно будет применить lower() к 'Не женат / не замужем' чтобы унифицировать `family_status`. Эта ошибка могла возникнуть из-за невнимательного заполнения анкеты клиентами или в процессе переписывания значений в банковскую базу данных."
   ]
  },
  {
   "cell_type": "markdown",
   "metadata": {},
   "source": [
    "### Выводы насчёт `gender`<a id=\"gender_review\"></a>"
   ]
  },
  {
   "cell_type": "code",
   "execution_count": 17,
   "metadata": {},
   "outputs": [
    {
     "data": {
      "text/plain": [
       "F      14236\n",
       "M       7288\n",
       "XNA        1\n",
       "Name: gender, dtype: int64"
      ]
     },
     "execution_count": 17,
     "metadata": {},
     "output_type": "execute_result"
    }
   ],
   "source": [
    "data['gender'].value_counts()"
   ]
  },
  {
   "cell_type": "code",
   "execution_count": 18,
   "metadata": {},
   "outputs": [
    {
     "name": "stdout",
     "output_type": "stream",
     "text": [
      "0.005%\n"
     ]
    }
   ],
   "source": [
    "#Расчитываем долю странного значения 'XNA' в столбце 'gender':\n",
    "print('{:.3%}'.format(1 / data['gender'].count()))"
   ]
  },
  {
   "cell_type": "markdown",
   "metadata": {},
   "source": [
    "**Причины возникновения и возможные пути замены странного значения `XNA`:**\n",
    "\n",
    "Один из клиентов не указал свой пол (`XNA` скорее всего должно означать тоже что и `n/a`), но этот \"пропуск\" не значителен, так так он составляет всего 0.005% от общего количества данных в этом столбце. Для ответа на поставленные банком вопросы мы наверное не будем группировать клиентов по полу (это ведь не индикатор платежеспособности!), и поэтому странное значение 'XNA' можно игнорировать или удалить."
   ]
  },
  {
   "cell_type": "markdown",
   "metadata": {},
   "source": [
    "### Выводы насчёт `income_type` и `debt`<a id=\"income_type&debt_review\"></a>"
   ]
  },
  {
   "cell_type": "code",
   "execution_count": 19,
   "metadata": {},
   "outputs": [
    {
     "data": {
      "text/plain": [
       "сотрудник          11119\n",
       "компаньон           5085\n",
       "пенсионер           3856\n",
       "госслужащий         1459\n",
       "безработный            2\n",
       "предприниматель        2\n",
       "в декрете              1\n",
       "студент                1\n",
       "Name: income_type, dtype: int64"
      ]
     },
     "execution_count": 19,
     "metadata": {},
     "output_type": "execute_result"
    }
   ],
   "source": [
    "data['income_type'].value_counts()"
   ]
  },
  {
   "cell_type": "code",
   "execution_count": 20,
   "metadata": {},
   "outputs": [
    {
     "data": {
      "text/plain": [
       "0    19784\n",
       "1     1741\n",
       "Name: debt, dtype: int64"
      ]
     },
     "execution_count": 20,
     "metadata": {},
     "output_type": "execute_result"
    }
   ],
   "source": [
    "data['debt'].value_counts()"
   ]
  },
  {
   "cell_type": "markdown",
   "metadata": {},
   "source": [
    "Ни в одном из этих столбцов нет пропусков, данные качественно оформлены что касается регистра букв в столбце `income_type`. Эти столбцы готовы к выводу зависимостей."
   ]
  },
  {
   "cell_type": "markdown",
   "metadata": {},
   "source": [
    "### Выводы насчёт `purpose`<a id=\"purpose_review\"></a>"
   ]
  },
  {
   "cell_type": "code",
   "execution_count": 21,
   "metadata": {},
   "outputs": [
    {
     "data": {
      "text/plain": [
       "свадьба                                   797\n",
       "на проведение свадьбы                     777\n",
       "сыграть свадьбу                           774\n",
       "операции с недвижимостью                  676\n",
       "покупка коммерческой недвижимости         664\n",
       "покупка жилья для сдачи                   653\n",
       "операции с жильем                         653\n",
       "операции с коммерческой недвижимостью     651\n",
       "покупка жилья                             647\n",
       "жилье                                     647\n",
       "покупка жилья для семьи                   641\n",
       "строительство собственной недвижимости    635\n",
       "недвижимость                              634\n",
       "операции со своей недвижимостью           630\n",
       "строительство жилой недвижимости          626\n",
       "покупка недвижимости                      624\n",
       "строительство недвижимости                620\n",
       "покупка своего жилья                      620\n",
       "ремонт жилью                              612\n",
       "покупка жилой недвижимости                607\n",
       "на покупку своего автомобиля              505\n",
       "заняться высшим образованием              496\n",
       "автомобиль                                495\n",
       "сделка с подержанным автомобилем          489\n",
       "свой автомобиль                           480\n",
       "на покупку подержанного автомобиля        479\n",
       "автомобили                                478\n",
       "на покупку автомобиля                     472\n",
       "дополнительное образование                462\n",
       "приобретение автомобиля                   462\n",
       "сделка с автомобилем                      455\n",
       "высшее образование                        453\n",
       "получение дополнительного образования     447\n",
       "образование                               447\n",
       "получение образования                     443\n",
       "профильное образование                    436\n",
       "получение высшего образования             426\n",
       "заняться образованием                     412\n",
       "Name: purpose, dtype: int64"
      ]
     },
     "execution_count": 21,
     "metadata": {},
     "output_type": "execute_result"
    }
   ],
   "source": [
    "data['purpose'].value_counts()"
   ]
  },
  {
   "cell_type": "markdown",
   "metadata": {},
   "source": [
    "**Возможные причины одинаковых по смыслу значений и способ их замены:**\n",
    "\n",
    "Здесь явно нужно будет провести лемматизацию, так как например значения 'свадьба', 'на проведение свадьбы' и 'сыграть свадьбу' обозначают одну и туже цель получения кредита.\n",
    "\n",
    "Ошибки в данных скорее всего возникли из-за человеческого фактора - банку желательно предоставлять более подробные инструкции по заполнению анкеты своим клиентам (например, описывать цель получения кредита одним словом) или подготовить список с 3-5 вариантами ответов (жизненное мероприятие, недвижимость, ...), где бы клиенты просто обозначали общую категорию, к котой относится их конкретная цель."
   ]
  },
  {
   "cell_type": "markdown",
   "metadata": {},
   "source": [
    "## Предобработка данных<a id=\"datawork\"></a>"
   ]
  },
  {
   "cell_type": "markdown",
   "metadata": {},
   "source": [
    "### Обработка подозрительно высоких и отрицательных трудовых стажей<a id=\"datawork1\"></a>"
   ]
  },
  {
   "cell_type": "markdown",
   "metadata": {},
   "source": [
    "До любых расчётов трудового стажа отрицательные значения нужно заменить на положительные:"
   ]
  },
  {
   "cell_type": "code",
   "execution_count": 22,
   "metadata": {},
   "outputs": [
    {
     "data": {
      "text/plain": [
       "0"
      ]
     },
     "metadata": {},
     "output_type": "display_data"
    },
    {
     "data": {
      "text/plain": [
       "0"
      ]
     },
     "metadata": {},
     "output_type": "display_data"
    }
   ],
   "source": [
    "data['days_employed'] = data['days_employed'].abs()\n",
    "\n",
    "# Этот-же метод применяем к столбцу 'years':\n",
    "data['years'] = data['years'].abs()\n",
    "\n",
    "# Проверяем, действительно ли мы избавились от отрицательных значений:\n",
    "display(data.loc[data['days_employed'] < 0]['days_employed'].count())\n",
    "display(data.loc[data['years'] < 0]['years'].count())"
   ]
  },
  {
   "cell_type": "markdown",
   "metadata": {},
   "source": [
    "Ещё прежде чем преступить к замене пропусков на средние значения, нужно избавиться от слишком больших значений общего трудового стажа для всех категорий кроме 'безработных' и 'пенсионеров', иначе они могут повлиять на средние значения отдельных видов деятельности. Заменим их на `NaN`. Сейчас мы работаем со вспомогательным столбцом `years`, так как его значения удобнее сравнивать с числом 42 чем значения `total_employed` с 15330 днями максимального стажа."
   ]
  },
  {
   "cell_type": "code",
   "execution_count": 23,
   "metadata": {},
   "outputs": [
    {
     "data": {
      "text/plain": [
       "2174"
      ]
     },
     "execution_count": 23,
     "metadata": {},
     "output_type": "execute_result"
    }
   ],
   "source": [
    "# Проверим - сколько изначально пропусков:\n",
    "data['years'].isnull().sum()"
   ]
  },
  {
   "cell_type": "code",
   "execution_count": 24,
   "metadata": {},
   "outputs": [
    {
     "data": {
      "text/plain": [
       "2184"
      ]
     },
     "execution_count": 24,
     "metadata": {},
     "output_type": "execute_result"
    }
   ],
   "source": [
    "# Прописываем метод для замены слишком больших стажей на 'NaN':\n",
    "d = 0\n",
    "while d < len(data['years']):\n",
    "    if data.loc[d, 'years'] > 42:\n",
    "        if data.loc[d, 'income_type'] != 'пенсионер' and data.loc[d, 'income_type'] != 'безработный':\n",
    "            data.loc[d, 'years'] = math.nan\n",
    "    d +=1\n",
    "\n",
    "# Проверяем новое количество пропусков:\n",
    "data['years'].isnull().sum()"
   ]
  },
  {
   "cell_type": "markdown",
   "metadata": {},
   "source": [
    "У нас всё получилось, к пропускам добавились 3 компаньона и 7 сотрудников со сверхвысокими стажеми, итого +10."
   ]
  },
  {
   "cell_type": "code",
   "execution_count": 25,
   "metadata": {},
   "outputs": [
    {
     "data": {
      "text/plain": [
       "2184"
      ]
     },
     "execution_count": 25,
     "metadata": {},
     "output_type": "execute_result"
    }
   ],
   "source": [
    "# Сейчас мы можем добавить эти значения в исходный столбец 'days_employed' и удалить доп. столбец 'years':\n",
    "data['days_employed'] = data['years'] * 365\n",
    "data = data.drop(['years'], axis=1)\n",
    "\n",
    "# Проверяем пропуски:\n",
    "data['days_employed'].isnull().sum()"
   ]
  },
  {
   "cell_type": "code",
   "execution_count": 26,
   "metadata": {},
   "outputs": [],
   "source": [
    "#median_days = data.groupby('income_type').agg({'days_employed': ['median']}).reset_index()\n",
    "#median_days.columns = median_days.columns.droplevel(0)\n",
    "#columns = ['income_type', 'median_days']\n",
    "#median_days.columns = columns\n",
    "\n",
    "#mean_days = data.groupby('income_type').agg({'days_employed': ['mean']}).reset_index()\n",
    "#mean_days.columns = mean_days.columns.droplevel(0)\n",
    "#columns = ['income_type', 'mean_days']\n",
    "#mean_days.columns = columns\n",
    "\n",
    "# Для удобного сравнения объединяем таблицы:\n",
    "#merged_stat_days = mean_days.merge(median_days, on = 'income_type', how = 'left')\n",
    "#merged_stat_days"
   ]
  },
  {
   "cell_type": "code",
   "execution_count": 27,
   "metadata": {},
   "outputs": [],
   "source": [
    "# Тот-же процесс повторяем для дохода:\n",
    "\n",
    "#median_income = data.groupby('income_type').agg({'total_income': ['median']}).reset_index()\n",
    "#median_income.columns = median_income.columns.droplevel(0)\n",
    "#columns = ['income_type', 'median_income']\n",
    "#median_income.columns = columns\n",
    "\n",
    "#mean_income = data.groupby('income_type').agg({'total_income': ['mean']}).reset_index()\n",
    "#mean_income.columns = mean_income.columns.droplevel(0)\n",
    "#columns = ['income_type', 'mean_income']\n",
    "#mean_income.columns = columns\n",
    "\n",
    "# Для удобного сравнения опять объединяем таблицы:\n",
    "#merged_stat_income = mean_income.merge(median_income, on = 'income_type', how = 'left')\n",
    "#merged_stat_income"
   ]
  },
  {
   "cell_type": "markdown",
   "metadata": {},
   "source": [
    "Эти столбцы содержат количественные переменные, поэтому для заполнения пропусков используем характерные значения нашей выборки. Сначала находим среднее арифметическое и медиану для общего стажа, предварительно группируя клиентов по их виду деятельности и образованию способом формирования сводной таблицы, а потом склеивая таблицу по 'индексу' (`income_type`) с помощью `join()`.\n",
    "\n",
    "Мы выбрали два критерия группировки данных, так как отработаный стаж зависит не только от вида деятельности, но и от времени потраченного на образование: кто-то может выйти на работу и стать сотрудником сразу после начального, а кто-то - отучиться ещё лет 5-10 и это скорее всего повлияет на карьерные возможности второго клиента. Поэтому среднее просто по виду деятельности является не самым лучшим показателем без контекста уровня образования."
   ]
  },
  {
   "cell_type": "code",
   "execution_count": 28,
   "metadata": {},
   "outputs": [
    {
     "data": {
      "text/html": [
       "<div>\n",
       "<style scoped>\n",
       "    .dataframe tbody tr th:only-of-type {\n",
       "        vertical-align: middle;\n",
       "    }\n",
       "\n",
       "    .dataframe tbody tr th {\n",
       "        vertical-align: top;\n",
       "    }\n",
       "\n",
       "    .dataframe thead tr th {\n",
       "        text-align: left;\n",
       "    }\n",
       "</style>\n",
       "<table border=\"1\" class=\"dataframe\">\n",
       "  <thead>\n",
       "    <tr>\n",
       "      <th></th>\n",
       "      <th colspan=\"5\" halign=\"left\">mean</th>\n",
       "      <th colspan=\"5\" halign=\"left\">median</th>\n",
       "      <th>income_type</th>\n",
       "    </tr>\n",
       "    <tr>\n",
       "      <th>education</th>\n",
       "      <th>высшее</th>\n",
       "      <th>начальное</th>\n",
       "      <th>неоконченное высшее</th>\n",
       "      <th>среднее</th>\n",
       "      <th>ученая степень</th>\n",
       "      <th>высшее</th>\n",
       "      <th>начальное</th>\n",
       "      <th>неоконченное высшее</th>\n",
       "      <th>среднее</th>\n",
       "      <th>ученая степень</th>\n",
       "      <th></th>\n",
       "    </tr>\n",
       "  </thead>\n",
       "  <tbody>\n",
       "    <tr>\n",
       "      <td>0</td>\n",
       "      <td>395302.838654</td>\n",
       "      <td>NaN</td>\n",
       "      <td>NaN</td>\n",
       "      <td>337524.466835</td>\n",
       "      <td>NaN</td>\n",
       "      <td>395302.838654</td>\n",
       "      <td>NaN</td>\n",
       "      <td>NaN</td>\n",
       "      <td>337524.466835</td>\n",
       "      <td>NaN</td>\n",
       "      <td>безработный</td>\n",
       "    </tr>\n",
       "    <tr>\n",
       "      <td>1</td>\n",
       "      <td>NaN</td>\n",
       "      <td>NaN</td>\n",
       "      <td>NaN</td>\n",
       "      <td>3296.759962</td>\n",
       "      <td>NaN</td>\n",
       "      <td>NaN</td>\n",
       "      <td>NaN</td>\n",
       "      <td>NaN</td>\n",
       "      <td>3296.759962</td>\n",
       "      <td>NaN</td>\n",
       "      <td>в декрете</td>\n",
       "    </tr>\n",
       "    <tr>\n",
       "      <td>2</td>\n",
       "      <td>3182.314561</td>\n",
       "      <td>3483.831436</td>\n",
       "      <td>2216.913600</td>\n",
       "      <td>3604.210297</td>\n",
       "      <td>5968.075884</td>\n",
       "      <td>2531.034209</td>\n",
       "      <td>2787.767403</td>\n",
       "      <td>1885.183639</td>\n",
       "      <td>2857.770974</td>\n",
       "      <td>5968.075884</td>\n",
       "      <td>госслужащий</td>\n",
       "    </tr>\n",
       "    <tr>\n",
       "      <td>3</td>\n",
       "      <td>2018.687160</td>\n",
       "      <td>2019.310449</td>\n",
       "      <td>1412.927180</td>\n",
       "      <td>2219.874950</td>\n",
       "      <td>NaN</td>\n",
       "      <td>1454.659104</td>\n",
       "      <td>1151.634460</td>\n",
       "      <td>1017.888120</td>\n",
       "      <td>1668.570970</td>\n",
       "      <td>NaN</td>\n",
       "      <td>компаньон</td>\n",
       "    </tr>\n",
       "    <tr>\n",
       "      <td>4</td>\n",
       "      <td>365176.302579</td>\n",
       "      <td>362288.367962</td>\n",
       "      <td>369795.282176</td>\n",
       "      <td>365007.457531</td>\n",
       "      <td>356930.517546</td>\n",
       "      <td>366158.526428</td>\n",
       "      <td>360264.985350</td>\n",
       "      <td>372250.501660</td>\n",
       "      <td>365025.338867</td>\n",
       "      <td>356930.517546</td>\n",
       "      <td>пенсионер</td>\n",
       "    </tr>\n",
       "    <tr>\n",
       "      <td>5</td>\n",
       "      <td>520.848083</td>\n",
       "      <td>NaN</td>\n",
       "      <td>NaN</td>\n",
       "      <td>NaN</td>\n",
       "      <td>NaN</td>\n",
       "      <td>520.848083</td>\n",
       "      <td>NaN</td>\n",
       "      <td>NaN</td>\n",
       "      <td>NaN</td>\n",
       "      <td>NaN</td>\n",
       "      <td>предприниматель</td>\n",
       "    </tr>\n",
       "    <tr>\n",
       "      <td>6</td>\n",
       "      <td>2247.236790</td>\n",
       "      <td>1853.910264</td>\n",
       "      <td>1590.509656</td>\n",
       "      <td>2376.978668</td>\n",
       "      <td>2704.223421</td>\n",
       "      <td>1553.815154</td>\n",
       "      <td>1197.176853</td>\n",
       "      <td>1197.676879</td>\n",
       "      <td>1612.831545</td>\n",
       "      <td>2351.431934</td>\n",
       "      <td>сотрудник</td>\n",
       "    </tr>\n",
       "    <tr>\n",
       "      <td>7</td>\n",
       "      <td>578.751554</td>\n",
       "      <td>NaN</td>\n",
       "      <td>NaN</td>\n",
       "      <td>NaN</td>\n",
       "      <td>NaN</td>\n",
       "      <td>578.751554</td>\n",
       "      <td>NaN</td>\n",
       "      <td>NaN</td>\n",
       "      <td>NaN</td>\n",
       "      <td>NaN</td>\n",
       "      <td>студент</td>\n",
       "    </tr>\n",
       "  </tbody>\n",
       "</table>\n",
       "</div>"
      ],
      "text/plain": [
       "                    mean                                                    \\\n",
       "education         высшее      начальное неоконченное высшее        среднее   \n",
       "0          395302.838654            NaN                 NaN  337524.466835   \n",
       "1                    NaN            NaN                 NaN    3296.759962   \n",
       "2            3182.314561    3483.831436         2216.913600    3604.210297   \n",
       "3            2018.687160    2019.310449         1412.927180    2219.874950   \n",
       "4          365176.302579  362288.367962       369795.282176  365007.457531   \n",
       "5             520.848083            NaN                 NaN            NaN   \n",
       "6            2247.236790    1853.910264         1590.509656    2376.978668   \n",
       "7             578.751554            NaN                 NaN            NaN   \n",
       "\n",
       "                                 median                                     \\\n",
       "education ученая степень         высшее      начальное неоконченное высшее   \n",
       "0                    NaN  395302.838654            NaN                 NaN   \n",
       "1                    NaN            NaN            NaN                 NaN   \n",
       "2            5968.075884    2531.034209    2787.767403         1885.183639   \n",
       "3                    NaN    1454.659104    1151.634460         1017.888120   \n",
       "4          356930.517546  366158.526428  360264.985350       372250.501660   \n",
       "5                    NaN     520.848083            NaN                 NaN   \n",
       "6            2704.223421    1553.815154    1197.176853         1197.676879   \n",
       "7                    NaN     578.751554            NaN                 NaN   \n",
       "\n",
       "                                             income_type  \n",
       "education        среднее ученая степень                   \n",
       "0          337524.466835            NaN      безработный  \n",
       "1            3296.759962            NaN        в декрете  \n",
       "2            2857.770974    5968.075884      госслужащий  \n",
       "3            1668.570970            NaN        компаньон  \n",
       "4          365025.338867  356930.517546        пенсионер  \n",
       "5                    NaN            NaN  предприниматель  \n",
       "6            1612.831545    2351.431934        сотрудник  \n",
       "7                    NaN            NaN          студент  "
      ]
     },
     "execution_count": 28,
     "metadata": {},
     "output_type": "execute_result"
    }
   ],
   "source": [
    "# Для успешной группировки перепишем все значения в столбце 'education' строчными буквами, что бы нам всё равно пришлось сделать, чтобы качественно обработать данные.\n",
    "data['education'] = data['education'].str.lower()\n",
    "\n",
    "# Делаем сводные таблицы со средним и медианой общего трудового стажа и склеиваем их:\n",
    "data_grouped_days_median = data.pivot_table(index = ['income_type'], columns = ['education'], values = 'days_employed', aggfunc = ['median'])\n",
    "data_grouped_days_mean = data.pivot_table(index = ['income_type'], columns = ['education'], values = 'days_employed', aggfunc = ['mean'])\n",
    "data_grouped_days = data_grouped_days_mean.join(data_grouped_days_median)\n",
    "\n",
    "# Для последующего удобного обращения к столбцу вида деятельности добавим его вне индекса:\n",
    "data_grouped_days['income_type'] = data_grouped_days.index\n",
    "data_grouped_days.reset_index(drop = True)"
   ]
  },
  {
   "cell_type": "markdown",
   "metadata": {},
   "source": [
    "По результатам мы видим, что это был правильный ход - ведь стажи между клиентами с одним видом деятельности но разным образованием могут отличаться на 700-800 дней. В то же время мы видим много `NaN` - значит, таких данных просто нет и программе не из чего посчитать среднее значение. Это говорит о том, что **выборка не совсем репрезентативна**, так как какие-то типы клиентов здесь вообще отсутствуют, или же по ним отсуствуют данные (строка в таблице есть, но там стоит `NaN`). Именно такие значения нам прийдётся заполнять просто средним значением по данному виду деятельности невзирая на уровень образования, но с этим мы разберёмся по ходу ситуации, а сначала заменим их на `error`.\n",
    "\n",
    "Что касается различия между медианой и средним арифметическим, значения среднего сильно завышены для некоторых видов деятельности (например, в случае стажей компаньонов), причём завышены данные для всех уровней образования. Значит, **выборка асимметрична** с крупными выбросами в нескольких категориях, кроме тех совершенно невероятных значений, которые мы уже удалили. Чтобы избежать влияния таких выбросов, будем использовать для замены **медиану**."
   ]
  },
  {
   "cell_type": "code",
   "execution_count": 29,
   "metadata": {},
   "outputs": [
    {
     "data": {
      "text/html": [
       "<div>\n",
       "<style scoped>\n",
       "    .dataframe tbody tr th:only-of-type {\n",
       "        vertical-align: middle;\n",
       "    }\n",
       "\n",
       "    .dataframe tbody tr th {\n",
       "        vertical-align: top;\n",
       "    }\n",
       "\n",
       "    .dataframe thead tr th {\n",
       "        text-align: left;\n",
       "    }\n",
       "</style>\n",
       "<table border=\"1\" class=\"dataframe\">\n",
       "  <thead>\n",
       "    <tr>\n",
       "      <th></th>\n",
       "      <th colspan=\"5\" halign=\"left\">mean</th>\n",
       "      <th colspan=\"5\" halign=\"left\">median</th>\n",
       "      <th>income_type</th>\n",
       "    </tr>\n",
       "    <tr>\n",
       "      <th>education</th>\n",
       "      <th>высшее</th>\n",
       "      <th>начальное</th>\n",
       "      <th>неоконченное высшее</th>\n",
       "      <th>среднее</th>\n",
       "      <th>ученая степень</th>\n",
       "      <th>высшее</th>\n",
       "      <th>начальное</th>\n",
       "      <th>неоконченное высшее</th>\n",
       "      <th>среднее</th>\n",
       "      <th>ученая степень</th>\n",
       "      <th></th>\n",
       "    </tr>\n",
       "  </thead>\n",
       "  <tbody>\n",
       "    <tr>\n",
       "      <td>0</td>\n",
       "      <td>202722.511368</td>\n",
       "      <td>NaN</td>\n",
       "      <td>NaN</td>\n",
       "      <td>59956.991984</td>\n",
       "      <td>NaN</td>\n",
       "      <td>202722.511368</td>\n",
       "      <td>NaN</td>\n",
       "      <td>NaN</td>\n",
       "      <td>59956.991984</td>\n",
       "      <td>NaN</td>\n",
       "      <td>безработный</td>\n",
       "    </tr>\n",
       "    <tr>\n",
       "      <td>1</td>\n",
       "      <td>NaN</td>\n",
       "      <td>NaN</td>\n",
       "      <td>NaN</td>\n",
       "      <td>53829.130729</td>\n",
       "      <td>NaN</td>\n",
       "      <td>NaN</td>\n",
       "      <td>NaN</td>\n",
       "      <td>NaN</td>\n",
       "      <td>53829.130729</td>\n",
       "      <td>NaN</td>\n",
       "      <td>в декрете</td>\n",
       "    </tr>\n",
       "    <tr>\n",
       "      <td>2</td>\n",
       "      <td>197320.548067</td>\n",
       "      <td>184056.353037</td>\n",
       "      <td>172476.953367</td>\n",
       "      <td>154055.103706</td>\n",
       "      <td>111392.231107</td>\n",
       "      <td>172511.107016</td>\n",
       "      <td>148339.290825</td>\n",
       "      <td>160592.345303</td>\n",
       "      <td>136652.970357</td>\n",
       "      <td>111392.231107</td>\n",
       "      <td>госслужащий</td>\n",
       "    </tr>\n",
       "    <tr>\n",
       "      <td>3</td>\n",
       "      <td>242375.855503</td>\n",
       "      <td>165057.030695</td>\n",
       "      <td>197649.335647</td>\n",
       "      <td>179490.220250</td>\n",
       "      <td>NaN</td>\n",
       "      <td>201785.400018</td>\n",
       "      <td>136798.905143</td>\n",
       "      <td>179867.152890</td>\n",
       "      <td>159070.690289</td>\n",
       "      <td>NaN</td>\n",
       "      <td>компаньон</td>\n",
       "    </tr>\n",
       "    <tr>\n",
       "      <td>4</td>\n",
       "      <td>170667.987802</td>\n",
       "      <td>111314.924441</td>\n",
       "      <td>138312.108423</td>\n",
       "      <td>131698.933496</td>\n",
       "      <td>177088.845999</td>\n",
       "      <td>144240.768611</td>\n",
       "      <td>102598.653164</td>\n",
       "      <td>120136.896353</td>\n",
       "      <td>114842.854099</td>\n",
       "      <td>177088.845999</td>\n",
       "      <td>пенсионер</td>\n",
       "    </tr>\n",
       "    <tr>\n",
       "      <td>5</td>\n",
       "      <td>499163.144947</td>\n",
       "      <td>NaN</td>\n",
       "      <td>NaN</td>\n",
       "      <td>NaN</td>\n",
       "      <td>NaN</td>\n",
       "      <td>499163.144947</td>\n",
       "      <td>NaN</td>\n",
       "      <td>NaN</td>\n",
       "      <td>NaN</td>\n",
       "      <td>NaN</td>\n",
       "      <td>предприниматель</td>\n",
       "    </tr>\n",
       "    <tr>\n",
       "      <td>6</td>\n",
       "      <td>191564.306210</td>\n",
       "      <td>137212.850187</td>\n",
       "      <td>174697.072430</td>\n",
       "      <td>152662.997144</td>\n",
       "      <td>194310.337215</td>\n",
       "      <td>165640.744634</td>\n",
       "      <td>125994.910603</td>\n",
       "      <td>151308.937846</td>\n",
       "      <td>136555.108821</td>\n",
       "      <td>198570.757322</td>\n",
       "      <td>сотрудник</td>\n",
       "    </tr>\n",
       "    <tr>\n",
       "      <td>7</td>\n",
       "      <td>98201.625314</td>\n",
       "      <td>NaN</td>\n",
       "      <td>NaN</td>\n",
       "      <td>NaN</td>\n",
       "      <td>NaN</td>\n",
       "      <td>98201.625314</td>\n",
       "      <td>NaN</td>\n",
       "      <td>NaN</td>\n",
       "      <td>NaN</td>\n",
       "      <td>NaN</td>\n",
       "      <td>студент</td>\n",
       "    </tr>\n",
       "  </tbody>\n",
       "</table>\n",
       "</div>"
      ],
      "text/plain": [
       "                    mean                                                    \\\n",
       "education         высшее      начальное неоконченное высшее        среднее   \n",
       "0          202722.511368            NaN                 NaN   59956.991984   \n",
       "1                    NaN            NaN                 NaN   53829.130729   \n",
       "2          197320.548067  184056.353037       172476.953367  154055.103706   \n",
       "3          242375.855503  165057.030695       197649.335647  179490.220250   \n",
       "4          170667.987802  111314.924441       138312.108423  131698.933496   \n",
       "5          499163.144947            NaN                 NaN            NaN   \n",
       "6          191564.306210  137212.850187       174697.072430  152662.997144   \n",
       "7           98201.625314            NaN                 NaN            NaN   \n",
       "\n",
       "                                 median                                     \\\n",
       "education ученая степень         высшее      начальное неоконченное высшее   \n",
       "0                    NaN  202722.511368            NaN                 NaN   \n",
       "1                    NaN            NaN            NaN                 NaN   \n",
       "2          111392.231107  172511.107016  148339.290825       160592.345303   \n",
       "3                    NaN  201785.400018  136798.905143       179867.152890   \n",
       "4          177088.845999  144240.768611  102598.653164       120136.896353   \n",
       "5                    NaN  499163.144947            NaN                 NaN   \n",
       "6          194310.337215  165640.744634  125994.910603       151308.937846   \n",
       "7                    NaN   98201.625314            NaN                 NaN   \n",
       "\n",
       "                                             income_type  \n",
       "education        среднее ученая степень                   \n",
       "0           59956.991984            NaN      безработный  \n",
       "1           53829.130729            NaN        в декрете  \n",
       "2          136652.970357  111392.231107      госслужащий  \n",
       "3          159070.690289            NaN        компаньон  \n",
       "4          114842.854099  177088.845999        пенсионер  \n",
       "5                    NaN            NaN  предприниматель  \n",
       "6          136555.108821  198570.757322        сотрудник  \n",
       "7                    NaN            NaN          студент  "
      ]
     },
     "execution_count": 29,
     "metadata": {},
     "output_type": "execute_result"
    }
   ],
   "source": [
    "# Тот-же процесс повторяем для дохода:\n",
    "\n",
    "data_grouped_income_median = data.pivot_table(index = ['income_type'], columns = ['education'], values = 'total_income', aggfunc = ['median'])\n",
    "data_grouped_income_mean = data.pivot_table(index = ['income_type'], columns = ['education'], values = 'total_income', aggfunc = ['mean'])\n",
    "data_grouped_income = data_grouped_income_mean.join(data_grouped_income_median)\n",
    "data_grouped_income['income_type'] = data_grouped_income.index\n",
    "data_grouped_income.reset_index(drop = True)"
   ]
  },
  {
   "cell_type": "markdown",
   "metadata": {},
   "source": [
    "Различия между людми из той-же сферы деятельности, но с разным образованием - существенны и достигают десятков тысяч, значит, решение использовать больше одного критерия для группировки данных оправдано.\n",
    "\n",
    "Здесь мы тоже можем наблюдать пропуски и завышеные значения среднего, опять принимаем решение использовать для замены медиану.\n",
    "\n",
    "Приступим к замене пропусков в обоих столбцах медианой в зависимости от вида деятельности **и** уровня образования:"
   ]
  },
  {
   "cell_type": "code",
   "execution_count": 30,
   "metadata": {},
   "outputs": [
    {
     "data": {
      "text/html": [
       "<div>\n",
       "<style scoped>\n",
       "    .dataframe tbody tr th:only-of-type {\n",
       "        vertical-align: middle;\n",
       "    }\n",
       "\n",
       "    .dataframe tbody tr th {\n",
       "        vertical-align: top;\n",
       "    }\n",
       "\n",
       "    .dataframe thead th {\n",
       "        text-align: right;\n",
       "    }\n",
       "</style>\n",
       "<table border=\"1\" class=\"dataframe\">\n",
       "  <thead>\n",
       "    <tr style=\"text-align: right;\">\n",
       "      <th></th>\n",
       "      <th>children</th>\n",
       "      <th>days_employed</th>\n",
       "      <th>dob_years</th>\n",
       "      <th>education</th>\n",
       "      <th>education_id</th>\n",
       "      <th>family_status</th>\n",
       "      <th>family_status_id</th>\n",
       "      <th>gender</th>\n",
       "      <th>income_type</th>\n",
       "      <th>debt</th>\n",
       "      <th>total_income</th>\n",
       "      <th>purpose</th>\n",
       "    </tr>\n",
       "  </thead>\n",
       "  <tbody>\n",
       "    <tr>\n",
       "      <td>0</td>\n",
       "      <td>1</td>\n",
       "      <td>8437.673028</td>\n",
       "      <td>42</td>\n",
       "      <td>высшее</td>\n",
       "      <td>0</td>\n",
       "      <td>женат / замужем</td>\n",
       "      <td>0</td>\n",
       "      <td>F</td>\n",
       "      <td>сотрудник</td>\n",
       "      <td>0</td>\n",
       "      <td>253875.639453</td>\n",
       "      <td>покупка жилья</td>\n",
       "    </tr>\n",
       "    <tr>\n",
       "      <td>1</td>\n",
       "      <td>1</td>\n",
       "      <td>4024.803754</td>\n",
       "      <td>36</td>\n",
       "      <td>среднее</td>\n",
       "      <td>1</td>\n",
       "      <td>женат / замужем</td>\n",
       "      <td>0</td>\n",
       "      <td>F</td>\n",
       "      <td>сотрудник</td>\n",
       "      <td>0</td>\n",
       "      <td>112080.014102</td>\n",
       "      <td>приобретение автомобиля</td>\n",
       "    </tr>\n",
       "    <tr>\n",
       "      <td>2</td>\n",
       "      <td>0</td>\n",
       "      <td>5623.422610</td>\n",
       "      <td>33</td>\n",
       "      <td>среднее</td>\n",
       "      <td>1</td>\n",
       "      <td>женат / замужем</td>\n",
       "      <td>0</td>\n",
       "      <td>M</td>\n",
       "      <td>сотрудник</td>\n",
       "      <td>0</td>\n",
       "      <td>145885.952297</td>\n",
       "      <td>покупка жилья</td>\n",
       "    </tr>\n",
       "    <tr>\n",
       "      <td>3</td>\n",
       "      <td>3</td>\n",
       "      <td>4124.747207</td>\n",
       "      <td>32</td>\n",
       "      <td>среднее</td>\n",
       "      <td>1</td>\n",
       "      <td>женат / замужем</td>\n",
       "      <td>0</td>\n",
       "      <td>M</td>\n",
       "      <td>сотрудник</td>\n",
       "      <td>0</td>\n",
       "      <td>267628.550329</td>\n",
       "      <td>дополнительное образование</td>\n",
       "    </tr>\n",
       "    <tr>\n",
       "      <td>4</td>\n",
       "      <td>0</td>\n",
       "      <td>340266.072047</td>\n",
       "      <td>53</td>\n",
       "      <td>среднее</td>\n",
       "      <td>1</td>\n",
       "      <td>гражданский брак</td>\n",
       "      <td>1</td>\n",
       "      <td>F</td>\n",
       "      <td>пенсионер</td>\n",
       "      <td>0</td>\n",
       "      <td>158616.077870</td>\n",
       "      <td>сыграть свадьбу</td>\n",
       "    </tr>\n",
       "    <tr>\n",
       "      <td>5</td>\n",
       "      <td>0</td>\n",
       "      <td>926.185831</td>\n",
       "      <td>27</td>\n",
       "      <td>высшее</td>\n",
       "      <td>0</td>\n",
       "      <td>гражданский брак</td>\n",
       "      <td>1</td>\n",
       "      <td>M</td>\n",
       "      <td>компаньон</td>\n",
       "      <td>0</td>\n",
       "      <td>255763.565419</td>\n",
       "      <td>покупка жилья</td>\n",
       "    </tr>\n",
       "    <tr>\n",
       "      <td>6</td>\n",
       "      <td>0</td>\n",
       "      <td>2879.202052</td>\n",
       "      <td>43</td>\n",
       "      <td>высшее</td>\n",
       "      <td>0</td>\n",
       "      <td>женат / замужем</td>\n",
       "      <td>0</td>\n",
       "      <td>F</td>\n",
       "      <td>компаньон</td>\n",
       "      <td>0</td>\n",
       "      <td>240525.971920</td>\n",
       "      <td>операции с жильем</td>\n",
       "    </tr>\n",
       "    <tr>\n",
       "      <td>7</td>\n",
       "      <td>0</td>\n",
       "      <td>152.779569</td>\n",
       "      <td>50</td>\n",
       "      <td>среднее</td>\n",
       "      <td>1</td>\n",
       "      <td>женат / замужем</td>\n",
       "      <td>0</td>\n",
       "      <td>M</td>\n",
       "      <td>сотрудник</td>\n",
       "      <td>0</td>\n",
       "      <td>135823.934197</td>\n",
       "      <td>образование</td>\n",
       "    </tr>\n",
       "    <tr>\n",
       "      <td>8</td>\n",
       "      <td>2</td>\n",
       "      <td>6929.865299</td>\n",
       "      <td>35</td>\n",
       "      <td>высшее</td>\n",
       "      <td>0</td>\n",
       "      <td>гражданский брак</td>\n",
       "      <td>1</td>\n",
       "      <td>F</td>\n",
       "      <td>сотрудник</td>\n",
       "      <td>0</td>\n",
       "      <td>95856.832424</td>\n",
       "      <td>на проведение свадьбы</td>\n",
       "    </tr>\n",
       "    <tr>\n",
       "      <td>9</td>\n",
       "      <td>0</td>\n",
       "      <td>2188.756445</td>\n",
       "      <td>41</td>\n",
       "      <td>среднее</td>\n",
       "      <td>1</td>\n",
       "      <td>женат / замужем</td>\n",
       "      <td>0</td>\n",
       "      <td>M</td>\n",
       "      <td>сотрудник</td>\n",
       "      <td>0</td>\n",
       "      <td>144425.938277</td>\n",
       "      <td>покупка жилья для семьи</td>\n",
       "    </tr>\n",
       "  </tbody>\n",
       "</table>\n",
       "</div>"
      ],
      "text/plain": [
       "   children  days_employed  dob_years education  education_id  \\\n",
       "0         1    8437.673028         42    высшее             0   \n",
       "1         1    4024.803754         36   среднее             1   \n",
       "2         0    5623.422610         33   среднее             1   \n",
       "3         3    4124.747207         32   среднее             1   \n",
       "4         0  340266.072047         53   среднее             1   \n",
       "5         0     926.185831         27    высшее             0   \n",
       "6         0    2879.202052         43    высшее             0   \n",
       "7         0     152.779569         50   среднее             1   \n",
       "8         2    6929.865299         35    высшее             0   \n",
       "9         0    2188.756445         41   среднее             1   \n",
       "\n",
       "      family_status  family_status_id gender income_type  debt   total_income  \\\n",
       "0   женат / замужем                 0      F   сотрудник     0  253875.639453   \n",
       "1   женат / замужем                 0      F   сотрудник     0  112080.014102   \n",
       "2   женат / замужем                 0      M   сотрудник     0  145885.952297   \n",
       "3   женат / замужем                 0      M   сотрудник     0  267628.550329   \n",
       "4  гражданский брак                 1      F   пенсионер     0  158616.077870   \n",
       "5  гражданский брак                 1      M   компаньон     0  255763.565419   \n",
       "6   женат / замужем                 0      F   компаньон     0  240525.971920   \n",
       "7   женат / замужем                 0      M   сотрудник     0  135823.934197   \n",
       "8  гражданский брак                 1      F   сотрудник     0   95856.832424   \n",
       "9   женат / замужем                 0      M   сотрудник     0  144425.938277   \n",
       "\n",
       "                      purpose  \n",
       "0               покупка жилья  \n",
       "1     приобретение автомобиля  \n",
       "2               покупка жилья  \n",
       "3  дополнительное образование  \n",
       "4             сыграть свадьбу  \n",
       "5               покупка жилья  \n",
       "6           операции с жильем  \n",
       "7                 образование  \n",
       "8       на проведение свадьбы  \n",
       "9     покупка жилья для семьи  "
      ]
     },
     "execution_count": 30,
     "metadata": {},
     "output_type": "execute_result"
    }
   ],
   "source": [
    "# Составим функции для замены 'NaN' средними значениями, используем конструкцию 'try-except',\n",
    "# так как может возникнуть ситуация, что для данной категории (комбинации данного вида деятельности и уроня образования) нет значений,\n",
    "# по которым можно посчитать медиану. Тогда выводим 'Error'.\n",
    "def replace_nan_days(data):\n",
    "    if math.isnan(data[1]) == True:\n",
    "        try:\n",
    "            for m in range(len(data_grouped_days)):\n",
    "                if data[8] == data_grouped_days['income_type'][m]:\n",
    "                    return data_grouped_days['median'][data[3]][m]\n",
    "        except:\n",
    "            return 'Error'\n",
    "    else:\n",
    "        return data[1]\n",
    "def replace_nan_income(data):\n",
    "    if math.isnan(data[10]) == True:\n",
    "        for m in range(len(data_grouped_income)):\n",
    "            if data[8] == data_grouped_income['income_type'][m]:\n",
    "                return data_grouped_income['median'][data[3]][m]\n",
    "    else:\n",
    "        return data[10]\n",
    "data['days_employed'] = data.apply(replace_nan_days, axis = 1)     \n",
    "data['total_income'] = data.apply(replace_nan_income, axis = 1)\n",
    "data.head(10)"
   ]
  },
  {
   "cell_type": "markdown",
   "metadata": {},
   "source": [
    "Проверяем, действительно ли удалось заменить все пропуски и есть ли у нас какие-to `error`:"
   ]
  },
  {
   "cell_type": "code",
   "execution_count": 181,
   "metadata": {},
   "outputs": [
    {
     "data": {
      "text/plain": [
       "0"
      ]
     },
     "metadata": {},
     "output_type": "display_data"
    },
    {
     "data": {
      "text/plain": [
       "0"
      ]
     },
     "metadata": {},
     "output_type": "display_data"
    },
    {
     "data": {
      "text/plain": [
       "children                 0\n",
       "days_employed            0\n",
       "dob_years                0\n",
       "education                0\n",
       "education_id             0\n",
       "family_status            0\n",
       "family_status_id         0\n",
       "gender                   0\n",
       "income_type              0\n",
       "debt                     0\n",
       "total_income             0\n",
       "purpose                  0\n",
       "income_level_category    0\n",
       "dtype: int64"
      ]
     },
     "metadata": {},
     "output_type": "display_data"
    },
    {
     "data": {
      "text/plain": [
       "children                 0\n",
       "days_employed            0\n",
       "dob_years                0\n",
       "education                0\n",
       "education_id             0\n",
       "family_status            0\n",
       "family_status_id         0\n",
       "gender                   0\n",
       "income_type              0\n",
       "debt                     0\n",
       "total_income             0\n",
       "purpose                  0\n",
       "income_level_category    0\n",
       "dtype: int64"
      ]
     },
     "metadata": {},
     "output_type": "display_data"
    }
   ],
   "source": [
    "display(data['days_employed'].isnull().sum())\n",
    "display(data['total_income'].isnull().sum())\n",
    "display(data.loc[data['days_employed'] == 'Error'].count())\n",
    "display(data.loc[data['total_income'] == 'Error'].count())"
   ]
  },
  {
   "cell_type": "markdown",
   "metadata": {},
   "source": [
    "**Вывод:**\n",
    "\n",
    "Нам удалось аккуратно заменить все пропуски и, по возможности, непрабдоподобные значения в столбцах `days_employed` и `total_income` на значения соответсвующие средним значениям, сгруппировав клиентов по виду деятельности и образованию. `Error` отсуствуют, значит, у нас не возникла ситуация, когда были пропущены все значения данной категории.\n"
   ]
  },
  {
   "cell_type": "markdown",
   "metadata": {},
   "source": [
    "### Замена типа данных столбцов `days_employed` и `total_income`<a id=\"datawork3\"></a>"
   ]
  },
  {
   "cell_type": "markdown",
   "metadata": {},
   "source": [
    "Из первоначального обзора данных мы знаем, что в столбцах 'days_employed' и 'total_income' значения принимают формат 'float64' и это нужно перевести в 'int64', так как стаж обычно не считается с точностью до сотых дня, а доход скорее всего получают в целых рублях/долларах, значит копейки/центы нужно округлить."
   ]
  },
  {
   "cell_type": "code",
   "execution_count": 32,
   "metadata": {},
   "outputs": [
    {
     "name": "stdout",
     "output_type": "stream",
     "text": [
      "<class 'pandas.core.frame.DataFrame'>\n",
      "RangeIndex: 21525 entries, 0 to 21524\n",
      "Data columns (total 12 columns):\n",
      "children            21525 non-null int64\n",
      "days_employed       21525 non-null int64\n",
      "dob_years           21525 non-null int64\n",
      "education           21525 non-null object\n",
      "education_id        21525 non-null int64\n",
      "family_status       21525 non-null object\n",
      "family_status_id    21525 non-null int64\n",
      "gender              21525 non-null object\n",
      "income_type         21525 non-null object\n",
      "debt                21525 non-null int64\n",
      "total_income        21525 non-null int64\n",
      "purpose             21525 non-null object\n",
      "dtypes: int64(7), object(5)\n",
      "memory usage: 2.0+ MB\n"
     ]
    }
   ],
   "source": [
    "data['days_employed'] = data['days_employed'].astype('int')\n",
    "data['total_income'] = data['total_income'].astype('int')\n",
    "# используем метод 'astype', а не 'to_numeric',\n",
    "# так так 'to_numeric' возвращает данные типа 'float', а нам их нужно как раз перевести на целочисленный формат.\n",
    "\n",
    "# проверяем замену типа данных, ещё раз вызывая info():\n",
    "data.info()"
   ]
  },
  {
   "cell_type": "markdown",
   "metadata": {},
   "source": [
    "### Исправление значений в столбце с детьми<a id=\"datawork4\"></a>"
   ]
  },
  {
   "cell_type": "markdown",
   "metadata": {},
   "source": [
    "Мы уже говорили о том, что подозрительные данные можно либо заменить, либо удалить. Попробуем их заменить на значения '1' и '2', которые, наверное, имелись ввиду вместо '-1' и '20'. "
   ]
  },
  {
   "cell_type": "code",
   "execution_count": 33,
   "metadata": {},
   "outputs": [
    {
     "data": {
      "text/plain": [
       "0    14149\n",
       "1     4865\n",
       "2     2131\n",
       "3      330\n",
       "4       41\n",
       "5        9\n",
       "Name: children, dtype: int64"
      ]
     },
     "execution_count": 33,
     "metadata": {},
     "output_type": "execute_result"
    }
   ],
   "source": [
    "f = 0\n",
    "while f < (len(data['children'])):\n",
    "    if data.loc[f, 'children'] == 20:\n",
    "        data.loc[f, 'children'] = 2\n",
    "    if data.loc[f, 'children'] == -1:\n",
    "        data.loc[f, 'children'] = 1\n",
    "    f += 1\n",
    "data['children'].value_counts()"
   ]
  },
  {
   "cell_type": "markdown",
   "metadata": {},
   "source": [
    "**Вывод:**\n",
    "\n",
    "Странных значений больше нет, столбец готов к поиску закономерностей. Продолжаем обрабатывать оставшиеся проблемы в данных."
   ]
  },
  {
   "cell_type": "markdown",
   "metadata": {},
   "source": [
    "### Работа с нулевым значением возраста<a id=\"datawork5\"></a>"
   ]
  },
  {
   "cell_type": "markdown",
   "metadata": {},
   "source": [
    "Нулевые значения возраста можно удалить или заменить на среднее значение для данного вида деятелности, по принципу уже применнённому к общему трудовому стажу используя 2 критерия группировки данных для нахождения среднего значения возраста: вид деятельности и уровень образования. Выбираем второй вариант - замену, следуя логичному предположению, что например все студенты и пенсионеры с одним уровнем образования принадлежат +/- к одной возрастной категории, которую можно описать средним значением."
   ]
  },
  {
   "cell_type": "code",
   "execution_count": 35,
   "metadata": {},
   "outputs": [
    {
     "data": {
      "text/plain": [
       "False    21424\n",
       "True       101\n",
       "Name: dob_years, dtype: int64"
      ]
     },
     "execution_count": 35,
     "metadata": {},
     "output_type": "execute_result"
    }
   ],
   "source": [
    "# Начинаем с замены значений \"0\" на \"NaN\", иначе они могут испортить расчёт среднего:\n",
    "def makenan(value):\n",
    "    if value == 0:\n",
    "        value = math.nan\n",
    "        return value\n",
    "    else:\n",
    "        return value\n",
    "data['dob_years'] = data['dob_years'].apply(makenan)\n",
    "data['dob_years'].isnull().value_counts()"
   ]
  },
  {
   "cell_type": "markdown",
   "metadata": {},
   "source": [
    "Сейчас мы имеем 101 пропуск заместо нашего 101 нулевого значения. Продалжаем расчёт средних значений по типу деятельности и уровню образования, используем код, похожий на способ сортировки данных выше."
   ]
  },
  {
   "cell_type": "code",
   "execution_count": 36,
   "metadata": {},
   "outputs": [
    {
     "data": {
      "text/html": [
       "<div>\n",
       "<style scoped>\n",
       "    .dataframe tbody tr th:only-of-type {\n",
       "        vertical-align: middle;\n",
       "    }\n",
       "\n",
       "    .dataframe tbody tr th {\n",
       "        vertical-align: top;\n",
       "    }\n",
       "\n",
       "    .dataframe thead tr th {\n",
       "        text-align: left;\n",
       "    }\n",
       "</style>\n",
       "<table border=\"1\" class=\"dataframe\">\n",
       "  <thead>\n",
       "    <tr>\n",
       "      <th></th>\n",
       "      <th colspan=\"5\" halign=\"left\">mean</th>\n",
       "      <th colspan=\"5\" halign=\"left\">median</th>\n",
       "      <th>income_type</th>\n",
       "    </tr>\n",
       "    <tr>\n",
       "      <th>education</th>\n",
       "      <th>высшее</th>\n",
       "      <th>начальное</th>\n",
       "      <th>неоконченное высшее</th>\n",
       "      <th>среднее</th>\n",
       "      <th>ученая степень</th>\n",
       "      <th>высшее</th>\n",
       "      <th>начальное</th>\n",
       "      <th>неоконченное высшее</th>\n",
       "      <th>среднее</th>\n",
       "      <th>ученая степень</th>\n",
       "      <th></th>\n",
       "    </tr>\n",
       "  </thead>\n",
       "  <tbody>\n",
       "    <tr>\n",
       "      <td>0</td>\n",
       "      <td>45.000000</td>\n",
       "      <td>NaN</td>\n",
       "      <td>NaN</td>\n",
       "      <td>31.000000</td>\n",
       "      <td>NaN</td>\n",
       "      <td>45.0</td>\n",
       "      <td>NaN</td>\n",
       "      <td>NaN</td>\n",
       "      <td>31.0</td>\n",
       "      <td>NaN</td>\n",
       "      <td>безработный</td>\n",
       "    </tr>\n",
       "    <tr>\n",
       "      <td>1</td>\n",
       "      <td>NaN</td>\n",
       "      <td>NaN</td>\n",
       "      <td>NaN</td>\n",
       "      <td>39.000000</td>\n",
       "      <td>NaN</td>\n",
       "      <td>NaN</td>\n",
       "      <td>NaN</td>\n",
       "      <td>NaN</td>\n",
       "      <td>39.0</td>\n",
       "      <td>NaN</td>\n",
       "      <td>в декрете</td>\n",
       "    </tr>\n",
       "    <tr>\n",
       "      <td>2</td>\n",
       "      <td>39.188645</td>\n",
       "      <td>46.125000</td>\n",
       "      <td>30.884615</td>\n",
       "      <td>42.412530</td>\n",
       "      <td>36.000000</td>\n",
       "      <td>37.0</td>\n",
       "      <td>43.5</td>\n",
       "      <td>30.5</td>\n",
       "      <td>42.0</td>\n",
       "      <td>36.0</td>\n",
       "      <td>госслужащий</td>\n",
       "    </tr>\n",
       "    <tr>\n",
       "      <td>3</td>\n",
       "      <td>38.913337</td>\n",
       "      <td>37.666667</td>\n",
       "      <td>33.227758</td>\n",
       "      <td>41.063487</td>\n",
       "      <td>NaN</td>\n",
       "      <td>38.0</td>\n",
       "      <td>36.5</td>\n",
       "      <td>31.0</td>\n",
       "      <td>41.0</td>\n",
       "      <td>NaN</td>\n",
       "      <td>компаньон</td>\n",
       "    </tr>\n",
       "    <tr>\n",
       "      <td>4</td>\n",
       "      <td>59.101576</td>\n",
       "      <td>61.020202</td>\n",
       "      <td>59.463415</td>\n",
       "      <td>59.362792</td>\n",
       "      <td>65.500000</td>\n",
       "      <td>59.0</td>\n",
       "      <td>61.0</td>\n",
       "      <td>59.0</td>\n",
       "      <td>60.0</td>\n",
       "      <td>65.5</td>\n",
       "      <td>пенсионер</td>\n",
       "    </tr>\n",
       "    <tr>\n",
       "      <td>5</td>\n",
       "      <td>42.500000</td>\n",
       "      <td>NaN</td>\n",
       "      <td>NaN</td>\n",
       "      <td>NaN</td>\n",
       "      <td>NaN</td>\n",
       "      <td>42.5</td>\n",
       "      <td>NaN</td>\n",
       "      <td>NaN</td>\n",
       "      <td>NaN</td>\n",
       "      <td>NaN</td>\n",
       "      <td>предприниматель</td>\n",
       "    </tr>\n",
       "    <tr>\n",
       "      <td>6</td>\n",
       "      <td>38.448217</td>\n",
       "      <td>40.751724</td>\n",
       "      <td>33.714674</td>\n",
       "      <td>40.730446</td>\n",
       "      <td>46.666667</td>\n",
       "      <td>37.0</td>\n",
       "      <td>39.0</td>\n",
       "      <td>31.0</td>\n",
       "      <td>40.0</td>\n",
       "      <td>45.0</td>\n",
       "      <td>сотрудник</td>\n",
       "    </tr>\n",
       "    <tr>\n",
       "      <td>7</td>\n",
       "      <td>22.000000</td>\n",
       "      <td>NaN</td>\n",
       "      <td>NaN</td>\n",
       "      <td>NaN</td>\n",
       "      <td>NaN</td>\n",
       "      <td>22.0</td>\n",
       "      <td>NaN</td>\n",
       "      <td>NaN</td>\n",
       "      <td>NaN</td>\n",
       "      <td>NaN</td>\n",
       "      <td>студент</td>\n",
       "    </tr>\n",
       "  </tbody>\n",
       "</table>\n",
       "</div>"
      ],
      "text/plain": [
       "                mean                                                           \\\n",
       "education     высшее  начальное неоконченное высшее    среднее ученая степень   \n",
       "0          45.000000        NaN                 NaN  31.000000            NaN   \n",
       "1                NaN        NaN                 NaN  39.000000            NaN   \n",
       "2          39.188645  46.125000           30.884615  42.412530      36.000000   \n",
       "3          38.913337  37.666667           33.227758  41.063487            NaN   \n",
       "4          59.101576  61.020202           59.463415  59.362792      65.500000   \n",
       "5          42.500000        NaN                 NaN        NaN            NaN   \n",
       "6          38.448217  40.751724           33.714674  40.730446      46.666667   \n",
       "7          22.000000        NaN                 NaN        NaN            NaN   \n",
       "\n",
       "          median                                                       \\\n",
       "education высшее начальное неоконченное высшее среднее ученая степень   \n",
       "0           45.0       NaN                 NaN    31.0            NaN   \n",
       "1            NaN       NaN                 NaN    39.0            NaN   \n",
       "2           37.0      43.5                30.5    42.0           36.0   \n",
       "3           38.0      36.5                31.0    41.0            NaN   \n",
       "4           59.0      61.0                59.0    60.0           65.5   \n",
       "5           42.5       NaN                 NaN     NaN            NaN   \n",
       "6           37.0      39.0                31.0    40.0           45.0   \n",
       "7           22.0       NaN                 NaN     NaN            NaN   \n",
       "\n",
       "               income_type  \n",
       "education                   \n",
       "0              безработный  \n",
       "1                в декрете  \n",
       "2              госслужащий  \n",
       "3                компаньон  \n",
       "4                пенсионер  \n",
       "5          предприниматель  \n",
       "6                сотрудник  \n",
       "7                  студент  "
      ]
     },
     "execution_count": 36,
     "metadata": {},
     "output_type": "execute_result"
    }
   ],
   "source": [
    "age_stat_median = data.pivot_table(index = ['income_type'], columns = ['education'], values = 'dob_years', aggfunc = ['median'])\n",
    "age_stat_mean = data.pivot_table(index = ['income_type'], columns = ['education'], values = 'dob_years', aggfunc = ['mean'])\n",
    "age_stat = age_stat_mean.join(age_stat_median)\n",
    "age_stat['income_type'] = age_stat.index\n",
    "age_stat.reset_index(drop = True)"
   ]
  },
  {
   "cell_type": "markdown",
   "metadata": {},
   "source": [
    "Итак, между средними возрастами для разных уровней образования есть различия аж на 5-7 лет. Медиана ниже среднего у некоторых значений, но отличия не слишком значительны и мы можем использовать среднее арифметичесткое для замены. Пишем функцию замены, похожую на те, которые мы уже применяли для столбцов `days_employed` и `total_income`:"
   ]
  },
  {
   "cell_type": "code",
   "execution_count": 39,
   "metadata": {},
   "outputs": [
    {
     "data": {
      "text/plain": [
       "0"
      ]
     },
     "metadata": {},
     "output_type": "display_data"
    },
    {
     "data": {
      "text/plain": [
       "0"
      ]
     },
     "metadata": {},
     "output_type": "display_data"
    },
    {
     "data": {
      "text/plain": [
       "children            0\n",
       "days_employed       0\n",
       "dob_years           0\n",
       "education           0\n",
       "education_id        0\n",
       "family_status       0\n",
       "family_status_id    0\n",
       "gender              0\n",
       "income_type         0\n",
       "debt                0\n",
       "total_income        0\n",
       "purpose             0\n",
       "dtype: int64"
      ]
     },
     "metadata": {},
     "output_type": "display_data"
    }
   ],
   "source": [
    "# Приступаем к замене нулевых значений:\n",
    "def replace_nan_age(data):\n",
    "    if math.isnan(data[2]) == True:\n",
    "        # Опять пользуемся конструкцией 'try-except' на случай,\n",
    "        # если для данной комбинации уровня образования и видя деятельности не из чего посчитать среднее значение возраста.\n",
    "        try:\n",
    "            for m in range(len(age_stat)):\n",
    "                if data[8] == age_stat['income_type'][m]:\n",
    "                    return age_stat['median'][data[3]][m]\n",
    "        except:\n",
    "            return 'Error'\n",
    "    else:\n",
    "        return data[2]\n",
    "data['dob_years'] = data.apply(replace_nan_age, axis = 1)\n",
    "# Проверяем замену и наличие 'Errors':\n",
    "display(data.loc[data['dob_years'] == 0]['dob_years'].count())\n",
    "display(data['dob_years'].isnull().sum())\n",
    "display(data.loc[data['dob_years'] == 'Error'].count())\n"
   ]
  },
  {
   "cell_type": "markdown",
   "metadata": {},
   "source": [
    "Из-за замены на `NaN`, тип данных в этом столбце поменялся на `float`, поэтому мы используем `astype()` чтобы вернуть его к формату `int`:"
   ]
  },
  {
   "cell_type": "code",
   "execution_count": 40,
   "metadata": {},
   "outputs": [
    {
     "name": "stdout",
     "output_type": "stream",
     "text": [
      "<class 'pandas.core.frame.DataFrame'>\n",
      "RangeIndex: 21525 entries, 0 to 21524\n",
      "Data columns (total 12 columns):\n",
      "children            21525 non-null int64\n",
      "days_employed       21525 non-null int64\n",
      "dob_years           21525 non-null int64\n",
      "education           21525 non-null object\n",
      "education_id        21525 non-null int64\n",
      "family_status       21525 non-null object\n",
      "family_status_id    21525 non-null int64\n",
      "gender              21525 non-null object\n",
      "income_type         21525 non-null object\n",
      "debt                21525 non-null int64\n",
      "total_income        21525 non-null int64\n",
      "purpose             21525 non-null object\n",
      "dtypes: int64(7), object(5)\n",
      "memory usage: 2.0+ MB\n"
     ]
    }
   ],
   "source": [
    "data['dob_years'] = data['dob_years'].astype('int')\n",
    "\n",
    "# Проверяем, все-ли типы данных соответсвуют 'int' или 'object' ('str'):\n",
    "data.info()"
   ]
  },
  {
   "cell_type": "markdown",
   "metadata": {},
   "source": [
    "#### Разбираемся с нюансом в `dob_years`, непредвиденным до замены нулевых значений <a id=\"datawork5.1\"></a>\n"
   ]
  },
  {
   "cell_type": "markdown",
   "metadata": {},
   "source": [
    "Казалось - столбец готов, но при нашем изначальном поиске \"странных значений\" нам мешали нули и мы не могли обнаружить другие слишком маленькие значения с помощью `min()`. Сейчас давайте сгруппируем столбец по виду деятельности, а к значениям возраста применим `min()`, `max()` и `mean()`:"
   ]
  },
  {
   "cell_type": "code",
   "execution_count": 41,
   "metadata": {},
   "outputs": [
    {
     "data": {
      "text/html": [
       "<div>\n",
       "<style scoped>\n",
       "    .dataframe tbody tr th:only-of-type {\n",
       "        vertical-align: middle;\n",
       "    }\n",
       "\n",
       "    .dataframe tbody tr th {\n",
       "        vertical-align: top;\n",
       "    }\n",
       "\n",
       "    .dataframe thead tr th {\n",
       "        text-align: left;\n",
       "    }\n",
       "\n",
       "    .dataframe thead tr:last-of-type th {\n",
       "        text-align: right;\n",
       "    }\n",
       "</style>\n",
       "<table border=\"1\" class=\"dataframe\">\n",
       "  <thead>\n",
       "    <tr>\n",
       "      <th></th>\n",
       "      <th colspan=\"3\" halign=\"left\">dob_years</th>\n",
       "    </tr>\n",
       "    <tr>\n",
       "      <th></th>\n",
       "      <th>min</th>\n",
       "      <th>max</th>\n",
       "      <th>mean</th>\n",
       "    </tr>\n",
       "    <tr>\n",
       "      <th>income_type</th>\n",
       "      <th></th>\n",
       "      <th></th>\n",
       "      <th></th>\n",
       "    </tr>\n",
       "  </thead>\n",
       "  <tbody>\n",
       "    <tr>\n",
       "      <td>безработный</td>\n",
       "      <td>31</td>\n",
       "      <td>45</td>\n",
       "      <td>38.000000</td>\n",
       "    </tr>\n",
       "    <tr>\n",
       "      <td>в декрете</td>\n",
       "      <td>39</td>\n",
       "      <td>39</td>\n",
       "      <td>39.000000</td>\n",
       "    </tr>\n",
       "    <tr>\n",
       "      <td>госслужащий</td>\n",
       "      <td>19</td>\n",
       "      <td>75</td>\n",
       "      <td>40.795751</td>\n",
       "    </tr>\n",
       "    <tr>\n",
       "      <td>компаньон</td>\n",
       "      <td>19</td>\n",
       "      <td>74</td>\n",
       "      <td>39.852311</td>\n",
       "    </tr>\n",
       "    <tr>\n",
       "      <td>пенсионер</td>\n",
       "      <td>22</td>\n",
       "      <td>74</td>\n",
       "      <td>59.372666</td>\n",
       "    </tr>\n",
       "    <tr>\n",
       "      <td>предприниматель</td>\n",
       "      <td>27</td>\n",
       "      <td>58</td>\n",
       "      <td>42.500000</td>\n",
       "    </tr>\n",
       "    <tr>\n",
       "      <td>сотрудник</td>\n",
       "      <td>19</td>\n",
       "      <td>74</td>\n",
       "      <td>40.013490</td>\n",
       "    </tr>\n",
       "    <tr>\n",
       "      <td>студент</td>\n",
       "      <td>22</td>\n",
       "      <td>22</td>\n",
       "      <td>22.000000</td>\n",
       "    </tr>\n",
       "  </tbody>\n",
       "</table>\n",
       "</div>"
      ],
      "text/plain": [
       "                dob_years               \n",
       "                      min max       mean\n",
       "income_type                             \n",
       "безработный            31  45  38.000000\n",
       "в декрете              39  39  39.000000\n",
       "госслужащий            19  75  40.795751\n",
       "компаньон              19  74  39.852311\n",
       "пенсионер              22  74  59.372666\n",
       "предприниматель        27  58  42.500000\n",
       "сотрудник              19  74  40.013490\n",
       "студент                22  22  22.000000"
      ]
     },
     "execution_count": 41,
     "metadata": {},
     "output_type": "execute_result"
    }
   ],
   "source": [
    "data.groupby('income_type').agg({'dob_years': ['min','max', 'mean']})"
   ]
  },
  {
   "cell_type": "markdown",
   "metadata": {},
   "source": [
    "Всё выглядит достаточно логично кроме 22-летних пенсионеров, с этим надо разобраться. Создадим одельную таблицу с возрастами пенсионеров:\n",
    "\n"
   ]
  },
  {
   "cell_type": "code",
   "execution_count": 42,
   "metadata": {},
   "outputs": [
    {
     "data": {
      "text/html": [
       "<div>\n",
       "<style scoped>\n",
       "    .dataframe tbody tr th:only-of-type {\n",
       "        vertical-align: middle;\n",
       "    }\n",
       "\n",
       "    .dataframe tbody tr th {\n",
       "        vertical-align: top;\n",
       "    }\n",
       "\n",
       "    .dataframe thead th {\n",
       "        text-align: right;\n",
       "    }\n",
       "</style>\n",
       "<table border=\"1\" class=\"dataframe\">\n",
       "  <thead>\n",
       "    <tr style=\"text-align: right;\">\n",
       "      <th></th>\n",
       "      <th>count</th>\n",
       "    </tr>\n",
       "  </thead>\n",
       "  <tbody>\n",
       "    <tr>\n",
       "      <td>0</td>\n",
       "      <td>1</td>\n",
       "    </tr>\n",
       "    <tr>\n",
       "      <td>1</td>\n",
       "      <td>1</td>\n",
       "    </tr>\n",
       "    <tr>\n",
       "      <td>2</td>\n",
       "      <td>2</td>\n",
       "    </tr>\n",
       "    <tr>\n",
       "      <td>3</td>\n",
       "      <td>3</td>\n",
       "    </tr>\n",
       "    <tr>\n",
       "      <td>4</td>\n",
       "      <td>1</td>\n",
       "    </tr>\n",
       "    <tr>\n",
       "      <td>5</td>\n",
       "      <td>1</td>\n",
       "    </tr>\n",
       "    <tr>\n",
       "      <td>6</td>\n",
       "      <td>3</td>\n",
       "    </tr>\n",
       "    <tr>\n",
       "      <td>7</td>\n",
       "      <td>2</td>\n",
       "    </tr>\n",
       "    <tr>\n",
       "      <td>8</td>\n",
       "      <td>3</td>\n",
       "    </tr>\n",
       "    <tr>\n",
       "      <td>9</td>\n",
       "      <td>1</td>\n",
       "    </tr>\n",
       "    <tr>\n",
       "      <td>10</td>\n",
       "      <td>5</td>\n",
       "    </tr>\n",
       "    <tr>\n",
       "      <td>11</td>\n",
       "      <td>5</td>\n",
       "    </tr>\n",
       "    <tr>\n",
       "      <td>12</td>\n",
       "      <td>9</td>\n",
       "    </tr>\n",
       "    <tr>\n",
       "      <td>13</td>\n",
       "      <td>5</td>\n",
       "    </tr>\n",
       "    <tr>\n",
       "      <td>14</td>\n",
       "      <td>8</td>\n",
       "    </tr>\n",
       "    <tr>\n",
       "      <td>15</td>\n",
       "      <td>7</td>\n",
       "    </tr>\n",
       "    <tr>\n",
       "      <td>16</td>\n",
       "      <td>13</td>\n",
       "    </tr>\n",
       "    <tr>\n",
       "      <td>17</td>\n",
       "      <td>9</td>\n",
       "    </tr>\n",
       "    <tr>\n",
       "      <td>18</td>\n",
       "      <td>10</td>\n",
       "    </tr>\n",
       "    <tr>\n",
       "      <td>19</td>\n",
       "      <td>13</td>\n",
       "    </tr>\n",
       "    <tr>\n",
       "      <td>20</td>\n",
       "      <td>14</td>\n",
       "    </tr>\n",
       "    <tr>\n",
       "      <td>21</td>\n",
       "      <td>13</td>\n",
       "    </tr>\n",
       "    <tr>\n",
       "      <td>22</td>\n",
       "      <td>23</td>\n",
       "    </tr>\n",
       "    <tr>\n",
       "      <td>23</td>\n",
       "      <td>32</td>\n",
       "    </tr>\n",
       "    <tr>\n",
       "      <td>24</td>\n",
       "      <td>66</td>\n",
       "    </tr>\n",
       "    <tr>\n",
       "      <td>25</td>\n",
       "      <td>83</td>\n",
       "    </tr>\n",
       "    <tr>\n",
       "      <td>26</td>\n",
       "      <td>106</td>\n",
       "    </tr>\n",
       "    <tr>\n",
       "      <td>27</td>\n",
       "      <td>120</td>\n",
       "    </tr>\n",
       "    <tr>\n",
       "      <td>28</td>\n",
       "      <td>163</td>\n",
       "    </tr>\n",
       "    <tr>\n",
       "      <td>29</td>\n",
       "      <td>177</td>\n",
       "    </tr>\n",
       "    <tr>\n",
       "      <td>30</td>\n",
       "      <td>209</td>\n",
       "    </tr>\n",
       "    <tr>\n",
       "      <td>31</td>\n",
       "      <td>249</td>\n",
       "    </tr>\n",
       "    <tr>\n",
       "      <td>32</td>\n",
       "      <td>240</td>\n",
       "    </tr>\n",
       "    <tr>\n",
       "      <td>33</td>\n",
       "      <td>282</td>\n",
       "    </tr>\n",
       "    <tr>\n",
       "      <td>34</td>\n",
       "      <td>284</td>\n",
       "    </tr>\n",
       "    <tr>\n",
       "      <td>35</td>\n",
       "      <td>242</td>\n",
       "    </tr>\n",
       "    <tr>\n",
       "      <td>36</td>\n",
       "      <td>263</td>\n",
       "    </tr>\n",
       "    <tr>\n",
       "      <td>37</td>\n",
       "      <td>210</td>\n",
       "    </tr>\n",
       "    <tr>\n",
       "      <td>38</td>\n",
       "      <td>208</td>\n",
       "    </tr>\n",
       "    <tr>\n",
       "      <td>39</td>\n",
       "      <td>153</td>\n",
       "    </tr>\n",
       "    <tr>\n",
       "      <td>40</td>\n",
       "      <td>157</td>\n",
       "    </tr>\n",
       "    <tr>\n",
       "      <td>41</td>\n",
       "      <td>147</td>\n",
       "    </tr>\n",
       "    <tr>\n",
       "      <td>42</td>\n",
       "      <td>87</td>\n",
       "    </tr>\n",
       "    <tr>\n",
       "      <td>43</td>\n",
       "      <td>77</td>\n",
       "    </tr>\n",
       "    <tr>\n",
       "      <td>44</td>\n",
       "      <td>56</td>\n",
       "    </tr>\n",
       "    <tr>\n",
       "      <td>45</td>\n",
       "      <td>53</td>\n",
       "    </tr>\n",
       "    <tr>\n",
       "      <td>46</td>\n",
       "      <td>29</td>\n",
       "    </tr>\n",
       "    <tr>\n",
       "      <td>47</td>\n",
       "      <td>7</td>\n",
       "    </tr>\n",
       "    <tr>\n",
       "      <td>48</td>\n",
       "      <td>4</td>\n",
       "    </tr>\n",
       "  </tbody>\n",
       "</table>\n",
       "</div>"
      ],
      "text/plain": [
       "    count\n",
       "0       1\n",
       "1       1\n",
       "2       2\n",
       "3       3\n",
       "4       1\n",
       "5       1\n",
       "6       3\n",
       "7       2\n",
       "8       3\n",
       "9       1\n",
       "10      5\n",
       "11      5\n",
       "12      9\n",
       "13      5\n",
       "14      8\n",
       "15      7\n",
       "16     13\n",
       "17      9\n",
       "18     10\n",
       "19     13\n",
       "20     14\n",
       "21     13\n",
       "22     23\n",
       "23     32\n",
       "24     66\n",
       "25     83\n",
       "26    106\n",
       "27    120\n",
       "28    163\n",
       "29    177\n",
       "30    209\n",
       "31    249\n",
       "32    240\n",
       "33    282\n",
       "34    284\n",
       "35    242\n",
       "36    263\n",
       "37    210\n",
       "38    208\n",
       "39    153\n",
       "40    157\n",
       "41    147\n",
       "42     87\n",
       "43     77\n",
       "44     56\n",
       "45     53\n",
       "46     29\n",
       "47      7\n",
       "48      4"
      ]
     },
     "execution_count": 42,
     "metadata": {},
     "output_type": "execute_result"
    }
   ],
   "source": [
    "pensioners = pd.DataFrame(columns=['count'])\n",
    "pensioners['count'] = data.loc[data['income_type'] == 'пенсионер']['dob_years'].value_counts()\n",
    "pensioners = pensioners.sort_index(ascending = True)\n",
    "pensioners.reset_index(drop = True)"
   ]
  },
  {
   "cell_type": "markdown",
   "metadata": {},
   "source": [
    "Визуально понятно, что большенство пенсионеров приходятся на средний и пожилой возраст и этого стоило ожидать, но есть и уникумы которым по 22, 24, 32 года... Учитывая особые ситуации рабочих на Крайнем Севере, в тяжёлых условиях итд., допустим что общеприемлемый пенсионный возраст - 40 лет. Найдём число 'слишком молодых пенсионеров' и их долю по отношению к общему количеству клиентов на пенсии, а потом будем решать, слишком ли много таких странных случаев чтобы с ними разбираться (удалять, заменять):"
   ]
  },
  {
   "cell_type": "code",
   "execution_count": 43,
   "metadata": {},
   "outputs": [
    {
     "name": "stdout",
     "output_type": "stream",
     "text": [
      "Число достаточно пожилых пенсионеров: 3814\n",
      "Число слишком молодых пенсионеров: 42\n",
      "Доля слишком молодых пенсионеров от их общего числа: 1.09%\n"
     ]
    }
   ],
   "source": [
    "print('Число достаточно пожилых пенсионеров: {}'.format(pensioners.loc[40:]['count'].sum()))\n",
    "print('Число слишком молодых пенсионеров: {}'.format(pensioners.loc[:39]['count'].sum()))\n",
    "print('Доля слишком молодых пенсионеров от их общего числа: {:.2%}'.format(pensioners.loc[:39]['count'].sum() / pensioners['count'].sum()))"
   ]
  },
  {
   "cell_type": "markdown",
   "metadata": {},
   "source": [
    "Всего 1% - это допустимо, возможно, эти люди - инвалиды и поэтому получают пенсию не смотря на свою молодость. Таким образом данные не в коем случае не испорчены и эти значения можно оставить, так как такая малая доля инвалидов или рабочих с особыми случаями объяснима, удалять данные лишний раз не стоит, а в замене мы не можем быть уверены без дополнительных данных от банка - может эти люди и правда на пенсии в 20-30 лет или минимальный общеприемлемый пенсионный возраст не 40, а 35 или 45. Важно заметить, что до этого мы заменяли нулевые значения средним арифметическим, которое было расчитано включая и эти маленькие значения. Это оправдуемо, так как мы и считали среднее арифметическое и медиану по этой конкретной выборке, а не выбирали значения 'среднего возраста', например, всех пенсионеров в РФ."
   ]
  },
  {
   "cell_type": "markdown",
   "metadata": {},
   "source": [
    "**Вывод:**\n",
    "\n",
    "Нулевых или пропущеных значений больше нет, данные в формате `int`, мы имеем ввиду слишком низкий возраст пенсионеров и мы объяснили это небольшое количество странных сначений, итого: столбец готов к поиску закономерностей. Продолжаем обрабатывать оставшиеся проблемы в данных."
   ]
  },
  {
   "cell_type": "markdown",
   "metadata": {},
   "source": [
    "### Замена больших букв<a id=\"datawork6\"></a>"
   ]
  },
  {
   "cell_type": "markdown",
   "metadata": {},
   "source": [
    "Чтобы было удобно обрабатывать столбец с семейным положением клиентов, перепишем все значения маленькими буквами:"
   ]
  },
  {
   "cell_type": "code",
   "execution_count": 44,
   "metadata": {},
   "outputs": [
    {
     "data": {
      "text/plain": [
       "женат / замужем          12380\n",
       "гражданский брак          4177\n",
       "не женат / не замужем     2813\n",
       "в разводе                 1195\n",
       "вдовец / вдова             960\n",
       "Name: family_status, dtype: int64"
      ]
     },
     "execution_count": 44,
     "metadata": {},
     "output_type": "execute_result"
    }
   ],
   "source": [
    "data['family_status'] = data['family_status'].str.lower()\n",
    "\n",
    "# Проверяем уникальные значения в 'family_status':\n",
    "data['family_status'].value_counts()"
   ]
  },
  {
   "cell_type": "markdown",
   "metadata": {},
   "source": [
    "По аналогичному принципу нужно применить `lower()` к `education`, но мы это уже сделали в процессе группировки данных для обработки значений в `days_employed` и  `total income`. Поэтому код закомментирован - он нам уже не нужен, но мы можем проверить, действительно ли количество и распределение значений в `education` соответствует `education_id` и все они написаны строчными буквами."
   ]
  },
  {
   "cell_type": "code",
   "execution_count": 45,
   "metadata": {},
   "outputs": [
    {
     "data": {
      "text/plain": [
       "среднее                15233\n",
       "высшее                  5260\n",
       "неоконченное высшее      744\n",
       "начальное                282\n",
       "ученая степень             6\n",
       "Name: education, dtype: int64"
      ]
     },
     "execution_count": 45,
     "metadata": {},
     "output_type": "execute_result"
    }
   ],
   "source": [
    "# data['education'] = data['education'].str.lower()\n",
    "data['education'].value_counts()"
   ]
  },
  {
   "cell_type": "code",
   "execution_count": 46,
   "metadata": {
    "scrolled": true
   },
   "outputs": [
    {
     "data": {
      "text/plain": [
       "1    15233\n",
       "0     5260\n",
       "2      744\n",
       "3      282\n",
       "4        6\n",
       "Name: education_id, dtype: int64"
      ]
     },
     "execution_count": 46,
     "metadata": {},
     "output_type": "execute_result"
    }
   ],
   "source": [
    "data['education_id'].value_counts()"
   ]
  },
  {
   "cell_type": "markdown",
   "metadata": {},
   "source": [
    "**Вывод:**\n",
    "\n",
    "Сейчас мы можем сопоставить количества уникальных значений идентификаторов уровня образования и количества уникальных значений названий уровня образования - они совпадают, значет мы всё сделали верно."
   ]
  },
  {
   "cell_type": "markdown",
   "metadata": {},
   "source": [
    "### Удаление значения 'XNA' в столбце с полом клиентов<a id=\"datawork7\"></a>"
   ]
  },
  {
   "cell_type": "markdown",
   "metadata": {},
   "source": [
    "Так как мы не можем узнать пол клиента `XNA` и это значение составляет всего 0.005% от всех данных, мы можем его удалить:"
   ]
  },
  {
   "cell_type": "code",
   "execution_count": 47,
   "metadata": {},
   "outputs": [
    {
     "data": {
      "text/plain": [
       "F    14236\n",
       "M     7288\n",
       "Name: gender, dtype: int64"
      ]
     },
     "execution_count": 47,
     "metadata": {},
     "output_type": "execute_result"
    }
   ],
   "source": [
    "data = data[data.gender != 'XNA']\n",
    "data['gender'].value_counts()"
   ]
  },
  {
   "cell_type": "markdown",
   "metadata": {},
   "source": [
    "**Вывод:**\n",
    "\n",
    "Странных неоприделённых значений больше нет, данные столбца готовы к анализу."
   ]
  },
  {
   "cell_type": "markdown",
   "metadata": {},
   "source": [
    "### Обработка дубликатов<a id=\"datawork8\"></a>"
   ]
  },
  {
   "cell_type": "markdown",
   "metadata": {},
   "source": [
    "#### Автоматизированое удаление дубликатов<a id=\"datawork81\"></a>"
   ]
  },
  {
   "cell_type": "markdown",
   "metadata": {},
   "source": [
    "Важное разъяснение: не смотря на нашу замену некоторых ячеек средними статистическими данными, количество дубликатов не должно внезапно увеличиться, так как строки всё равно будут отличатся по знячениям других столбцов. А если строки совпадают после замены `NaN` средним арифметическим, то они бы совпадали и если бы мы `NaN` не заменяли.\n",
    "\n",
    "Дубликаты, скорее всего, возникли из-за неаккуратного формирования файла банком - возможно данные переносились из анкет в базу данных вручную и один клиент туда попал два раза, также мог произойти сбой и некоторые данные могли задублироваться. "
   ]
  },
  {
   "cell_type": "code",
   "execution_count": 48,
   "metadata": {},
   "outputs": [
    {
     "data": {
      "text/plain": [
       "71"
      ]
     },
     "execution_count": 48,
     "metadata": {},
     "output_type": "execute_result"
    }
   ],
   "source": [
    "# Проверяем наличие дубликатов:\n",
    "data.duplicated().sum()"
   ]
  },
  {
   "cell_type": "code",
   "execution_count": 49,
   "metadata": {},
   "outputs": [
    {
     "data": {
      "text/plain": [
       "0"
      ]
     },
     "execution_count": 49,
     "metadata": {},
     "output_type": "execute_result"
    }
   ],
   "source": [
    "# Эти 71 повторных значения нужно удалить!\n",
    "data = data.drop_duplicates().reset_index(drop = True)\n",
    "data.duplicated().sum()"
   ]
  },
  {
   "cell_type": "markdown",
   "metadata": {},
   "source": [
    "**Вывод:**\n",
    "\n",
    "Все дубликаты, которые мы можем выявить автоматически, удалены, продолжим их поиск отдельно в столбце `purpose`. "
   ]
  },
  {
   "cell_type": "markdown",
   "metadata": {},
   "source": [
    "#### Ручной просмотр дубликатов в столбце `purpose`, определение основных значений с помощью подсчёта  `lemmas`<a id=\"datawork82\"></a>"
   ]
  },
  {
   "cell_type": "code",
   "execution_count": 50,
   "metadata": {},
   "outputs": [
    {
     "data": {
      "text/plain": [
       "свадьба                                   791\n",
       "на проведение свадьбы                     768\n",
       "сыграть свадьбу                           765\n",
       "операции с недвижимостью                  675\n",
       "покупка коммерческой недвижимости         661\n",
       "операции с жильем                         652\n",
       "покупка жилья для сдачи                   651\n",
       "операции с коммерческой недвижимостью     650\n",
       "покупка жилья                             646\n",
       "жилье                                     646\n",
       "покупка жилья для семьи                   638\n",
       "строительство собственной недвижимости    635\n",
       "недвижимость                              633\n",
       "операции со своей недвижимостью           627\n",
       "строительство жилой недвижимости          624\n",
       "покупка своего жилья                      620\n",
       "покупка недвижимости                      620\n",
       "строительство недвижимости                619\n",
       "ремонт жилью                              607\n",
       "покупка жилой недвижимости                606\n",
       "на покупку своего автомобиля              505\n",
       "заняться высшим образованием              496\n",
       "автомобиль                                494\n",
       "сделка с подержанным автомобилем          486\n",
       "автомобили                                478\n",
       "на покупку подержанного автомобиля        478\n",
       "свой автомобиль                           478\n",
       "на покупку автомобиля                     471\n",
       "приобретение автомобиля                   461\n",
       "дополнительное образование                460\n",
       "сделка с автомобилем                      455\n",
       "высшее образование                        452\n",
       "образование                               447\n",
       "получение дополнительного образования     446\n",
       "получение образования                     442\n",
       "профильное образование                    436\n",
       "получение высшего образования             426\n",
       "заняться образованием                     408\n",
       "Name: purpose, dtype: int64"
      ]
     },
     "execution_count": 50,
     "metadata": {},
     "output_type": "execute_result"
    }
   ],
   "source": [
    "data['purpose'].value_counts()"
   ]
  },
  {
   "cell_type": "markdown",
   "metadata": {},
   "source": [
    "Проанализировав все возможные цели получения кредитов, мы выявили 4 основных цели: 'свадьба', 'автомобиль', 'недвижимость', 'образование'. Потвердим их с помощью подсчёта `lemmas`:"
   ]
  },
  {
   "cell_type": "code",
   "execution_count": 51,
   "metadata": {},
   "outputs": [
    {
     "data": {
      "text/plain": [
       "Counter({'покупка': 5896,\n",
       "         ' ': 33569,\n",
       "         'жилье': 4460,\n",
       "         '\\n': 21453,\n",
       "         'приобретение': 461,\n",
       "         'автомобиль': 4306,\n",
       "         'дополнительный': 906,\n",
       "         'образование': 4013,\n",
       "         'сыграть': 765,\n",
       "         'свадьба': 2324,\n",
       "         'операция': 2604,\n",
       "         'с': 2918,\n",
       "         'на': 2222,\n",
       "         'проведение': 768,\n",
       "         'для': 1289,\n",
       "         'семья': 638,\n",
       "         'недвижимость': 6350,\n",
       "         'коммерческий': 1311,\n",
       "         'жилой': 1230,\n",
       "         'строительство': 1878,\n",
       "         'собственный': 635,\n",
       "         'подержать': 478,\n",
       "         'свой': 2230,\n",
       "         'со': 627,\n",
       "         'заниматься': 904,\n",
       "         'сделка': 941,\n",
       "         'подержанный': 486,\n",
       "         'получение': 1314,\n",
       "         'высокий': 1374,\n",
       "         'профильный': 436,\n",
       "         'сдача': 651,\n",
       "         'ремонт': 607})"
      ]
     },
     "metadata": {},
     "output_type": "display_data"
    }
   ],
   "source": [
    "from pymystem3 import Mystem\n",
    "m = Mystem()\n",
    "from collections import Counter\n",
    "lemmlist = []\n",
    "for purpose in data['purpose']:\n",
    "    lemma1 = m.lemmatize(purpose)\n",
    "    lemmlist.extend(lemma1)\n",
    "display(Counter(lemmlist))"
   ]
  },
  {
   "cell_type": "markdown",
   "metadata": {},
   "source": [
    "**Вывод:**\n",
    "\n",
    "Кроме пояснительных слов, основными целями действительно являются нами выявленные 'свадьба', 'автомобиль', 'недвижимость' (или жильё - объеденим их в одну категорию), и 'образование'. Далее проведём упрощение данных в столбце `purpose`.\n"
   ]
  },
  {
   "cell_type": "markdown",
   "metadata": {},
   "source": [
    "### Лемматизация<a id=\"lemmas\"></a>"
   ]
  },
  {
   "cell_type": "markdown",
   "metadata": {},
   "source": [
    "Для замены подобных значений создаём метод для проведения лемматизации и упрощения данных в столбце `purpose`. Важно заметить, что мы используем конструкцию `try-except` на случай если мы ошиблись и в столбце есть значения, которые не имеют ничего общего со 'свадьбой', 'автомобилем', 'недвиюимостью' или 'образованием'. Тогда в столбце появится `error`."
   ]
  },
  {
   "cell_type": "code",
   "execution_count": 52,
   "metadata": {},
   "outputs": [
    {
     "data": {
      "text/plain": [
       "недвижимость    10810\n",
       "автомобиль       4306\n",
       "образование      4013\n",
       "свадьба          2324\n",
       "Name: purpose, dtype: int64"
      ]
     },
     "execution_count": 52,
     "metadata": {},
     "output_type": "execute_result"
    }
   ],
   "source": [
    "u = 0\n",
    "while u < len(data['purpose']):\n",
    "    purpose = data.loc[u, 'purpose']\n",
    "    lemmas = m.lemmatize(purpose)\n",
    "    for word in lemmas:\n",
    "        try:\n",
    "            if 'свадьба' in word:\n",
    "                data.loc[u, 'purpose'] = 'свадьба'\n",
    "            if 'автомобиль' in word:\n",
    "                data.loc[u, 'purpose'] = 'автомобиль'\n",
    "            if 'недвижимость' in word:\n",
    "                data.loc[u, 'purpose'] = 'недвижимость'\n",
    "            if 'жилье' in word:\n",
    "                data.loc[u, 'purpose'] = 'недвижимость'\n",
    "            if 'образование' in word:\n",
    "                data.loc[u, 'purpose'] = 'образование'\n",
    "        except:\n",
    "            print('error')\n",
    "    u += 1\n",
    "\n",
    "# Проверим количество значений 'purpose':\n",
    "data['purpose'].value_counts()\n"
   ]
  },
  {
   "cell_type": "markdown",
   "metadata": {},
   "source": [
    "**Вывод**\n",
    "\n",
    "Нет никаких значений `error`, лемматизация данных и упрощение столбца `purpose` прошли успешно. Двигаемся дальше."
   ]
  },
  {
   "cell_type": "markdown",
   "metadata": {},
   "source": [
    "### Категоризация данных<a id=\"categorisation\"></a>"
   ]
  },
  {
   "cell_type": "markdown",
   "metadata": {},
   "source": [
    "Для ответа на один из поставленых нам вопросов ('Есть ли зависимость между уровнем дохода и возвратом кредита в срок?') нам нужно категоризировать данные по уровню дохода, иначе сводная таблица получится слишком длинной. Сделаем это с помощью нахождения квартилей - так мы получим 4 одинаковые по количеству данных репрезентативные категории, чьи свойства (например способность оплаты кредитов всрок) мы можем в дальнейшем сравнивать."
   ]
  },
  {
   "cell_type": "code",
   "execution_count": 53,
   "metadata": {},
   "outputs": [
    {
     "data": {
      "text/plain": [
       "0.25    107515\n",
       "0.50    143707\n",
       "0.75    198301\n",
       "Name: total_income, dtype: int64"
      ]
     },
     "metadata": {},
     "output_type": "display_data"
    }
   ],
   "source": [
    "income_level = data['total_income'].quantile([0.25, 0.5, 0.75]).astype('int')\n",
    "display(income_level)\n",
    "# Это разделяющие значения, по ним мы будем сортировать данные столбца 'total_income'"
   ]
  },
  {
   "cell_type": "markdown",
   "metadata": {},
   "source": [
    "Итак, нижние 25% нашей выборки имеют доход меньше 107620 (Q1), их категорию дохода мы можем назвать `низкий доход`. Клиенты следующего квартиля входят в срез от 25% до 50% и имеют доход от 107620 (Q1) до 151876 (Q2). Их категорию назовём `средний доход`. Следующие 25% клиентов имеют доход от 151876 (Q2) до 202417 (Q3), это люди, у которых `доход выше среднего`. Верхние 25% будут иметь `сверхвысокий доход`, от 202417 (Q3) и до максимального значения в нашей выборке. Расстояния Q2 - Q1 и Q3 - Q2 почти одинаковы (около 50 тысяч), это говорит о том, что наша выборка почти симметрична. Конечно, возможно в реальном мире и 107620 - совсем не низкий доход, но не имея контекста и данных о 'генеральной совокупности', мы можем использовать метод категоризации с помощью квантилей.\n",
    "\n",
    "Приступим к разделению клиентов:"
   ]
  },
  {
   "cell_type": "markdown",
   "metadata": {},
   "source": [
    "У нас получилось не совсем равномерное распределение, видимо из-за того, что несколько елементов принимают значение 202417. Попробуем устранить проблему \"в ручную\", модифицировав метод."
   ]
  },
  {
   "cell_type": "code",
   "execution_count": 54,
   "metadata": {},
   "outputs": [
    {
     "data": {
      "text/html": [
       "<div>\n",
       "<style scoped>\n",
       "    .dataframe tbody tr th:only-of-type {\n",
       "        vertical-align: middle;\n",
       "    }\n",
       "\n",
       "    .dataframe tbody tr th {\n",
       "        vertical-align: top;\n",
       "    }\n",
       "\n",
       "    .dataframe thead th {\n",
       "        text-align: right;\n",
       "    }\n",
       "</style>\n",
       "<table border=\"1\" class=\"dataframe\">\n",
       "  <thead>\n",
       "    <tr style=\"text-align: right;\">\n",
       "      <th></th>\n",
       "      <th>children</th>\n",
       "      <th>days_employed</th>\n",
       "      <th>dob_years</th>\n",
       "      <th>education</th>\n",
       "      <th>education_id</th>\n",
       "      <th>family_status</th>\n",
       "      <th>family_status_id</th>\n",
       "      <th>gender</th>\n",
       "      <th>income_type</th>\n",
       "      <th>debt</th>\n",
       "      <th>total_income</th>\n",
       "      <th>purpose</th>\n",
       "      <th>income_level_category</th>\n",
       "    </tr>\n",
       "  </thead>\n",
       "  <tbody>\n",
       "    <tr>\n",
       "      <td>0</td>\n",
       "      <td>1</td>\n",
       "      <td>8437</td>\n",
       "      <td>42</td>\n",
       "      <td>высшее</td>\n",
       "      <td>0</td>\n",
       "      <td>женат / замужем</td>\n",
       "      <td>0</td>\n",
       "      <td>F</td>\n",
       "      <td>сотрудник</td>\n",
       "      <td>0</td>\n",
       "      <td>253875</td>\n",
       "      <td>недвижимость</td>\n",
       "      <td>сверхвысокий доход</td>\n",
       "    </tr>\n",
       "    <tr>\n",
       "      <td>1</td>\n",
       "      <td>1</td>\n",
       "      <td>4024</td>\n",
       "      <td>36</td>\n",
       "      <td>среднее</td>\n",
       "      <td>1</td>\n",
       "      <td>женат / замужем</td>\n",
       "      <td>0</td>\n",
       "      <td>F</td>\n",
       "      <td>сотрудник</td>\n",
       "      <td>0</td>\n",
       "      <td>112080</td>\n",
       "      <td>автомобиль</td>\n",
       "      <td>средний доход</td>\n",
       "    </tr>\n",
       "    <tr>\n",
       "      <td>2</td>\n",
       "      <td>0</td>\n",
       "      <td>5623</td>\n",
       "      <td>33</td>\n",
       "      <td>среднее</td>\n",
       "      <td>1</td>\n",
       "      <td>женат / замужем</td>\n",
       "      <td>0</td>\n",
       "      <td>M</td>\n",
       "      <td>сотрудник</td>\n",
       "      <td>0</td>\n",
       "      <td>145885</td>\n",
       "      <td>недвижимость</td>\n",
       "      <td>средний доход</td>\n",
       "    </tr>\n",
       "    <tr>\n",
       "      <td>3</td>\n",
       "      <td>3</td>\n",
       "      <td>4124</td>\n",
       "      <td>32</td>\n",
       "      <td>среднее</td>\n",
       "      <td>1</td>\n",
       "      <td>женат / замужем</td>\n",
       "      <td>0</td>\n",
       "      <td>M</td>\n",
       "      <td>сотрудник</td>\n",
       "      <td>0</td>\n",
       "      <td>267628</td>\n",
       "      <td>образование</td>\n",
       "      <td>сверхвысокий доход</td>\n",
       "    </tr>\n",
       "    <tr>\n",
       "      <td>4</td>\n",
       "      <td>0</td>\n",
       "      <td>340266</td>\n",
       "      <td>53</td>\n",
       "      <td>среднее</td>\n",
       "      <td>1</td>\n",
       "      <td>гражданский брак</td>\n",
       "      <td>1</td>\n",
       "      <td>F</td>\n",
       "      <td>пенсионер</td>\n",
       "      <td>0</td>\n",
       "      <td>158616</td>\n",
       "      <td>свадьба</td>\n",
       "      <td>доход выше среднего</td>\n",
       "    </tr>\n",
       "    <tr>\n",
       "      <td>5</td>\n",
       "      <td>0</td>\n",
       "      <td>926</td>\n",
       "      <td>27</td>\n",
       "      <td>высшее</td>\n",
       "      <td>0</td>\n",
       "      <td>гражданский брак</td>\n",
       "      <td>1</td>\n",
       "      <td>M</td>\n",
       "      <td>компаньон</td>\n",
       "      <td>0</td>\n",
       "      <td>255763</td>\n",
       "      <td>недвижимость</td>\n",
       "      <td>сверхвысокий доход</td>\n",
       "    </tr>\n",
       "    <tr>\n",
       "      <td>6</td>\n",
       "      <td>0</td>\n",
       "      <td>2879</td>\n",
       "      <td>43</td>\n",
       "      <td>высшее</td>\n",
       "      <td>0</td>\n",
       "      <td>женат / замужем</td>\n",
       "      <td>0</td>\n",
       "      <td>F</td>\n",
       "      <td>компаньон</td>\n",
       "      <td>0</td>\n",
       "      <td>240525</td>\n",
       "      <td>недвижимость</td>\n",
       "      <td>сверхвысокий доход</td>\n",
       "    </tr>\n",
       "    <tr>\n",
       "      <td>7</td>\n",
       "      <td>0</td>\n",
       "      <td>152</td>\n",
       "      <td>50</td>\n",
       "      <td>среднее</td>\n",
       "      <td>1</td>\n",
       "      <td>женат / замужем</td>\n",
       "      <td>0</td>\n",
       "      <td>M</td>\n",
       "      <td>сотрудник</td>\n",
       "      <td>0</td>\n",
       "      <td>135823</td>\n",
       "      <td>образование</td>\n",
       "      <td>средний доход</td>\n",
       "    </tr>\n",
       "    <tr>\n",
       "      <td>8</td>\n",
       "      <td>2</td>\n",
       "      <td>6929</td>\n",
       "      <td>35</td>\n",
       "      <td>высшее</td>\n",
       "      <td>0</td>\n",
       "      <td>гражданский брак</td>\n",
       "      <td>1</td>\n",
       "      <td>F</td>\n",
       "      <td>сотрудник</td>\n",
       "      <td>0</td>\n",
       "      <td>95856</td>\n",
       "      <td>свадьба</td>\n",
       "      <td>низкий доход</td>\n",
       "    </tr>\n",
       "    <tr>\n",
       "      <td>9</td>\n",
       "      <td>0</td>\n",
       "      <td>2188</td>\n",
       "      <td>41</td>\n",
       "      <td>среднее</td>\n",
       "      <td>1</td>\n",
       "      <td>женат / замужем</td>\n",
       "      <td>0</td>\n",
       "      <td>M</td>\n",
       "      <td>сотрудник</td>\n",
       "      <td>0</td>\n",
       "      <td>144425</td>\n",
       "      <td>недвижимость</td>\n",
       "      <td>средний доход</td>\n",
       "    </tr>\n",
       "  </tbody>\n",
       "</table>\n",
       "</div>"
      ],
      "text/plain": [
       "   children  days_employed  dob_years education  education_id  \\\n",
       "0         1           8437         42    высшее             0   \n",
       "1         1           4024         36   среднее             1   \n",
       "2         0           5623         33   среднее             1   \n",
       "3         3           4124         32   среднее             1   \n",
       "4         0         340266         53   среднее             1   \n",
       "5         0            926         27    высшее             0   \n",
       "6         0           2879         43    высшее             0   \n",
       "7         0            152         50   среднее             1   \n",
       "8         2           6929         35    высшее             0   \n",
       "9         0           2188         41   среднее             1   \n",
       "\n",
       "      family_status  family_status_id gender income_type  debt  total_income  \\\n",
       "0   женат / замужем                 0      F   сотрудник     0        253875   \n",
       "1   женат / замужем                 0      F   сотрудник     0        112080   \n",
       "2   женат / замужем                 0      M   сотрудник     0        145885   \n",
       "3   женат / замужем                 0      M   сотрудник     0        267628   \n",
       "4  гражданский брак                 1      F   пенсионер     0        158616   \n",
       "5  гражданский брак                 1      M   компаньон     0        255763   \n",
       "6   женат / замужем                 0      F   компаньон     0        240525   \n",
       "7   женат / замужем                 0      M   сотрудник     0        135823   \n",
       "8  гражданский брак                 1      F   сотрудник     0         95856   \n",
       "9   женат / замужем                 0      M   сотрудник     0        144425   \n",
       "\n",
       "        purpose income_level_category  \n",
       "0  недвижимость    сверхвысокий доход  \n",
       "1    автомобиль         средний доход  \n",
       "2  недвижимость         средний доход  \n",
       "3   образование    сверхвысокий доход  \n",
       "4       свадьба   доход выше среднего  \n",
       "5  недвижимость    сверхвысокий доход  \n",
       "6  недвижимость    сверхвысокий доход  \n",
       "7   образование         средний доход  \n",
       "8       свадьба          низкий доход  \n",
       "9  недвижимость         средний доход  "
      ]
     },
     "execution_count": 54,
     "metadata": {},
     "output_type": "execute_result"
    }
   ],
   "source": [
    "# Напишем метод для категоризации клиентов по их уровню дохода, выводам присвоим новый столбец в 'data':\n",
    "# Название нового столбца 'income_level_category' = категория уровня дохода\n",
    "def sort_by_income(element):\n",
    "    if element < 107620:\n",
    "        return 'низкий доход'\n",
    "    if 107620 <= element < 151876:\n",
    "        return 'средний доход'\n",
    "    if 151876 <= element < 202417:\n",
    "        return 'доход выше среднего'\n",
    "    if element >= 202417:\n",
    "        return 'сверхвысокий доход'\n",
    "data['income_level_category'] = data['total_income'].apply(sort_by_income)\n",
    "data.head(10)"
   ]
  },
  {
   "cell_type": "markdown",
   "metadata": {},
   "source": [
    "**Вывод:**\n",
    "\n",
    "Сейчас у нас данные категоризированы по уровню дохода и мы можем приступать к финальному анализу и поиску зависимостей..\n"
   ]
  },
  {
   "cell_type": "markdown",
   "metadata": {},
   "source": [
    "## Подведение итогов, ответы на вопросы:<a id=\"results\"></a>"
   ]
  },
  {
   "cell_type": "markdown",
   "metadata": {},
   "source": [
    "- Есть ли зависимость между наличием детей и возвратом кредита в срок?"
   ]
  },
  {
   "cell_type": "code",
   "execution_count": 55,
   "metadata": {},
   "outputs": [
    {
     "data": {
      "text/html": [
       "<div>\n",
       "<style scoped>\n",
       "    .dataframe tbody tr th:only-of-type {\n",
       "        vertical-align: middle;\n",
       "    }\n",
       "\n",
       "    .dataframe tbody tr th {\n",
       "        vertical-align: top;\n",
       "    }\n",
       "\n",
       "    .dataframe thead th {\n",
       "        text-align: right;\n",
       "    }\n",
       "</style>\n",
       "<table border=\"1\" class=\"dataframe\">\n",
       "  <thead>\n",
       "    <tr style=\"text-align: right;\">\n",
       "      <th></th>\n",
       "      <th>children</th>\n",
       "      <th>debt</th>\n",
       "      <th>total_clients</th>\n",
       "      <th>ratio</th>\n",
       "    </tr>\n",
       "  </thead>\n",
       "  <tbody>\n",
       "    <tr>\n",
       "      <td>4</td>\n",
       "      <td>4</td>\n",
       "      <td>4</td>\n",
       "      <td>41</td>\n",
       "      <td>9.76%</td>\n",
       "    </tr>\n",
       "    <tr>\n",
       "      <td>2</td>\n",
       "      <td>2</td>\n",
       "      <td>202</td>\n",
       "      <td>2128</td>\n",
       "      <td>9.49%</td>\n",
       "    </tr>\n",
       "    <tr>\n",
       "      <td>1</td>\n",
       "      <td>1</td>\n",
       "      <td>445</td>\n",
       "      <td>4855</td>\n",
       "      <td>9.17%</td>\n",
       "    </tr>\n",
       "    <tr>\n",
       "      <td>3</td>\n",
       "      <td>3</td>\n",
       "      <td>27</td>\n",
       "      <td>330</td>\n",
       "      <td>8.18%</td>\n",
       "    </tr>\n",
       "    <tr>\n",
       "      <td>0</td>\n",
       "      <td>0</td>\n",
       "      <td>1063</td>\n",
       "      <td>14090</td>\n",
       "      <td>7.54%</td>\n",
       "    </tr>\n",
       "    <tr>\n",
       "      <td>5</td>\n",
       "      <td>5</td>\n",
       "      <td>0</td>\n",
       "      <td>9</td>\n",
       "      <td>0.0%</td>\n",
       "    </tr>\n",
       "  </tbody>\n",
       "</table>\n",
       "</div>"
      ],
      "text/plain": [
       "   children  debt  total_clients  ratio\n",
       "4         4     4             41  9.76%\n",
       "2         2   202           2128  9.49%\n",
       "1         1   445           4855  9.17%\n",
       "3         3    27            330  8.18%\n",
       "0         0  1063          14090  7.54%\n",
       "5         5     0              9   0.0%"
      ]
     },
     "execution_count": 55,
     "metadata": {},
     "output_type": "execute_result"
    }
   ],
   "source": [
    "# Посчитаем количество должников, сгруппировав их по количеству детей:\n",
    "data_pivot1 = data.pivot_table(index='children', values='debt', aggfunc = 'sum').reset_index()\n",
    "columns = ['children', 'debt']\n",
    "data_pivot1.columns = columns\n",
    "\n",
    "# Добавим общее количество людей в выборке, сгруппировав их по количеству детей:\n",
    "data_pivot1['total_clients'] = data.groupby('children').agg({'debt': ['count']})\n",
    "\n",
    "# Находим соотношение должников к общему количеству клиентов, сгруппировав их по количеству детей.\n",
    "# Ответ округляем до сотых и выводим со знаком %:\n",
    "data_pivot1['ratio'] = (data_pivot1['debt'] / data_pivot1['total_clients'] * 100).round(2).astype('str') + '%'\n",
    "data_pivot1.sort_values(by = 'ratio', ascending = False)"
   ]
  },
  {
   "cell_type": "markdown",
   "metadata": {},
   "source": [
    "**Вывод:**\n",
    "\n",
    "Да, в числе клиентов с детьми пропорционально больше должников чем числе бездетных клиентов, исключением являются клиенты с 5 детьми. Скорее всего за этим стоит либо не репрезентативность выборки (в базе банка всего 9 таких клиентов), либо бо́льшая финансовая ответсвенность клиентов с такими многодетными семьями (но это менее вероятно, так как для клиентов с 4 детьми ситуация состоит с точностью наоборот).\n",
    "\n"
   ]
  },
  {
   "cell_type": "markdown",
   "metadata": {},
   "source": [
    "\n",
    "- Есть ли зависимость между семейным положением и возвратом кредита в срок?"
   ]
  },
  {
   "cell_type": "code",
   "execution_count": 56,
   "metadata": {},
   "outputs": [
    {
     "data": {
      "text/html": [
       "<div>\n",
       "<style scoped>\n",
       "    .dataframe tbody tr th:only-of-type {\n",
       "        vertical-align: middle;\n",
       "    }\n",
       "\n",
       "    .dataframe tbody tr th {\n",
       "        vertical-align: top;\n",
       "    }\n",
       "\n",
       "    .dataframe thead th {\n",
       "        text-align: right;\n",
       "    }\n",
       "</style>\n",
       "<table border=\"1\" class=\"dataframe\">\n",
       "  <thead>\n",
       "    <tr style=\"text-align: right;\">\n",
       "      <th></th>\n",
       "      <th>family_status</th>\n",
       "      <th>debt</th>\n",
       "      <th>total_clients</th>\n",
       "      <th>ratio</th>\n",
       "    </tr>\n",
       "  </thead>\n",
       "  <tbody>\n",
       "    <tr>\n",
       "      <td>4</td>\n",
       "      <td>не женат / не замужем</td>\n",
       "      <td>274</td>\n",
       "      <td>2810</td>\n",
       "      <td>9.75%</td>\n",
       "    </tr>\n",
       "    <tr>\n",
       "      <td>2</td>\n",
       "      <td>гражданский брак</td>\n",
       "      <td>388</td>\n",
       "      <td>4150</td>\n",
       "      <td>9.35%</td>\n",
       "    </tr>\n",
       "    <tr>\n",
       "      <td>3</td>\n",
       "      <td>женат / замужем</td>\n",
       "      <td>931</td>\n",
       "      <td>12339</td>\n",
       "      <td>7.55%</td>\n",
       "    </tr>\n",
       "    <tr>\n",
       "      <td>0</td>\n",
       "      <td>в разводе</td>\n",
       "      <td>85</td>\n",
       "      <td>1195</td>\n",
       "      <td>7.11%</td>\n",
       "    </tr>\n",
       "    <tr>\n",
       "      <td>1</td>\n",
       "      <td>вдовец / вдова</td>\n",
       "      <td>63</td>\n",
       "      <td>959</td>\n",
       "      <td>6.57%</td>\n",
       "    </tr>\n",
       "  </tbody>\n",
       "</table>\n",
       "</div>"
      ],
      "text/plain": [
       "           family_status  debt  total_clients  ratio\n",
       "4  не женат / не замужем   274           2810  9.75%\n",
       "2       гражданский брак   388           4150  9.35%\n",
       "3        женат / замужем   931          12339  7.55%\n",
       "0              в разводе    85           1195  7.11%\n",
       "1         вдовец / вдова    63            959  6.57%"
      ]
     },
     "execution_count": 56,
     "metadata": {},
     "output_type": "execute_result"
    }
   ],
   "source": [
    "# Посчитаем количество должников, сгруппировав их по семейному положению:\n",
    "data_pivot2 = data.pivot_table(index='family_status', values='debt', aggfunc = 'sum').reset_index()\n",
    "columns = ['family_status', 'debt']\n",
    "data_pivot2.columns = columns\n",
    "\n",
    "# Добавим общее количество людей в выборке, сгруппировав их по семейному положению:\n",
    "#data_pivot2['total_clients'] = \n",
    "total_clients_by_family = data.groupby('family_status').agg({'debt': ['count']}).reset_index()\n",
    "total_clients_by_family.columns = ['family_status', 'total_clients']\n",
    "\n",
    "data_pivot2['total_clients'] = total_clients_by_family['total_clients']\n",
    "\n",
    "# Находим соотношение должников к общему количеству клиентов, сгруппировав их по семейному положению.\n",
    "# Ответ округляем до сотых и выводим со знаком %:\n",
    "data_pivot2['ratio'] = (data_pivot2['debt'] / data_pivot2['total_clients'] * 100).round(2).astype('str') + '%'\n",
    "data_pivot2.sort_values(by = 'ratio', ascending = False)"
   ]
  },
  {
   "cell_type": "markdown",
   "metadata": {},
   "source": [
    "**Вывод:**\n",
    "\n",
    "Да, клиенты, которые никогда не состояли в официальном браке, склонны к задолженности по возврату кредитов. Видимо, они менее ответственны или не могут положиться на финансовую поддержку членов семьи, к которой их обязывают формальные связи."
   ]
  },
  {
   "cell_type": "markdown",
   "metadata": {},
   "source": [
    "- Есть ли зависимость между уровнем дохода и возвратом кредита в срок?"
   ]
  },
  {
   "cell_type": "code",
   "execution_count": 57,
   "metadata": {},
   "outputs": [
    {
     "data": {
      "text/html": [
       "<div>\n",
       "<style scoped>\n",
       "    .dataframe tbody tr th:only-of-type {\n",
       "        vertical-align: middle;\n",
       "    }\n",
       "\n",
       "    .dataframe tbody tr th {\n",
       "        vertical-align: top;\n",
       "    }\n",
       "\n",
       "    .dataframe thead th {\n",
       "        text-align: right;\n",
       "    }\n",
       "</style>\n",
       "<table border=\"1\" class=\"dataframe\">\n",
       "  <thead>\n",
       "    <tr style=\"text-align: right;\">\n",
       "      <th></th>\n",
       "      <th>income_level_category</th>\n",
       "      <th>debt</th>\n",
       "      <th>total_clients</th>\n",
       "      <th>ratio</th>\n",
       "    </tr>\n",
       "  </thead>\n",
       "  <tbody>\n",
       "    <tr>\n",
       "      <td>3</td>\n",
       "      <td>средний доход</td>\n",
       "      <td>568</td>\n",
       "      <td>6275</td>\n",
       "      <td>9.05%</td>\n",
       "    </tr>\n",
       "    <tr>\n",
       "      <td>0</td>\n",
       "      <td>доход выше среднего</td>\n",
       "      <td>401</td>\n",
       "      <td>4901</td>\n",
       "      <td>8.18%</td>\n",
       "    </tr>\n",
       "    <tr>\n",
       "      <td>1</td>\n",
       "      <td>низкий доход</td>\n",
       "      <td>427</td>\n",
       "      <td>5369</td>\n",
       "      <td>7.95%</td>\n",
       "    </tr>\n",
       "    <tr>\n",
       "      <td>2</td>\n",
       "      <td>сверхвысокий доход</td>\n",
       "      <td>345</td>\n",
       "      <td>4908</td>\n",
       "      <td>7.03%</td>\n",
       "    </tr>\n",
       "  </tbody>\n",
       "</table>\n",
       "</div>"
      ],
      "text/plain": [
       "  income_level_category  debt  total_clients  ratio\n",
       "3         средний доход   568           6275  9.05%\n",
       "0   доход выше среднего   401           4901  8.18%\n",
       "1          низкий доход   427           5369  7.95%\n",
       "2    сверхвысокий доход   345           4908  7.03%"
      ]
     },
     "execution_count": 57,
     "metadata": {},
     "output_type": "execute_result"
    }
   ],
   "source": [
    "# Посчитаем количество должников, сгруппировав их по количеству детей:\n",
    "data_pivot3 = data.pivot_table(index='income_level_category', values='debt', aggfunc = 'sum').reset_index()\n",
    "columns = ['income_level_category', 'debt']\n",
    "data_pivot3.columns = columns\n",
    "\n",
    "# Добавим общее количество людей в выборке, сгруппировав их по количеству детей:\n",
    "total_clients_by_income = data.groupby('income_level_category').agg({'debt': ['count']}).reset_index()\n",
    "total_clients_by_income.columns = ['income_level_category', 'total_clients']\n",
    "data_pivot3['total_clients'] = total_clients_by_income['total_clients']\n",
    "\n",
    "# Находим соотношение должников к общему количеству клиентов, сгруппировав их по количеству детей.\n",
    "# Ответ округляем до сотых и выводим со знаком %:\n",
    "data_pivot3['ratio'] = (data_pivot3['debt'] / data_pivot3['total_clients'] * 100).round(2).astype('str') + '%'\n",
    "data_pivot3.sort_values(by = 'ratio', ascending = False)"
   ]
  },
  {
   "cell_type": "markdown",
   "metadata": {},
   "source": [
    "**Вывод:**\n",
    "\n",
    "Да, зависимость есть - клиенты средних 50% нашей выборки наиболее склонны к задолженности (и между % должников в этих категориях наименьшее различее). Видимо, люди с низким доходом вынуждены жить более расчётливо, а для людей со сверхвысоким доходом не проблема оплатить кредиты в срок."
   ]
  },
  {
   "cell_type": "markdown",
   "metadata": {},
   "source": [
    "- Как разные цели кредита влияют на его возврат в срок?"
   ]
  },
  {
   "cell_type": "code",
   "execution_count": 58,
   "metadata": {},
   "outputs": [
    {
     "data": {
      "text/html": [
       "<div>\n",
       "<style scoped>\n",
       "    .dataframe tbody tr th:only-of-type {\n",
       "        vertical-align: middle;\n",
       "    }\n",
       "\n",
       "    .dataframe tbody tr th {\n",
       "        vertical-align: top;\n",
       "    }\n",
       "\n",
       "    .dataframe thead th {\n",
       "        text-align: right;\n",
       "    }\n",
       "</style>\n",
       "<table border=\"1\" class=\"dataframe\">\n",
       "  <thead>\n",
       "    <tr style=\"text-align: right;\">\n",
       "      <th></th>\n",
       "      <th>purpose</th>\n",
       "      <th>debt</th>\n",
       "      <th>total_clients</th>\n",
       "      <th>ratio</th>\n",
       "    </tr>\n",
       "  </thead>\n",
       "  <tbody>\n",
       "    <tr>\n",
       "      <td>0</td>\n",
       "      <td>автомобиль</td>\n",
       "      <td>403</td>\n",
       "      <td>4306</td>\n",
       "      <td>9.36%</td>\n",
       "    </tr>\n",
       "    <tr>\n",
       "      <td>2</td>\n",
       "      <td>образование</td>\n",
       "      <td>370</td>\n",
       "      <td>4013</td>\n",
       "      <td>9.22%</td>\n",
       "    </tr>\n",
       "    <tr>\n",
       "      <td>3</td>\n",
       "      <td>свадьба</td>\n",
       "      <td>186</td>\n",
       "      <td>2324</td>\n",
       "      <td>8.0%</td>\n",
       "    </tr>\n",
       "    <tr>\n",
       "      <td>1</td>\n",
       "      <td>недвижимость</td>\n",
       "      <td>782</td>\n",
       "      <td>10810</td>\n",
       "      <td>7.23%</td>\n",
       "    </tr>\n",
       "  </tbody>\n",
       "</table>\n",
       "</div>"
      ],
      "text/plain": [
       "        purpose  debt  total_clients  ratio\n",
       "0    автомобиль   403           4306  9.36%\n",
       "2   образование   370           4013  9.22%\n",
       "3       свадьба   186           2324   8.0%\n",
       "1  недвижимость   782          10810  7.23%"
      ]
     },
     "execution_count": 58,
     "metadata": {},
     "output_type": "execute_result"
    }
   ],
   "source": [
    "data_pivot4 = data.pivot_table(index = 'purpose', values = 'debt', aggfunc = 'sum').reset_index()\n",
    "columns = ['purpose', 'debt']\n",
    "data_pivot4.columns = columns\n",
    "\n",
    "# Добавим общее количество людей в выборке, сгруппировав их по количеству детей:\n",
    "total_clients_by_purpose = data.groupby('purpose').agg({'debt': ['count']}).reset_index()\n",
    "total_clients_by_purpose.columns = ['purpose', 'total_clients']\n",
    "data_pivot4['total_clients'] = total_clients_by_purpose['total_clients']\n",
    "\n",
    "# Находим соотношение должников к общему количеству клиентов, сгруппировав их по количеству детей.\n",
    "# Ответ округляем до сотых и выводим со знаком %:\n",
    "data_pivot4['ratio'] = (data_pivot4['debt'] / data_pivot4['total_clients'] * 100).round(2).astype('str') + '%'\n",
    "data_pivot4.sort_values(by = 'ratio', ascending = False)"
   ]
  },
  {
   "cell_type": "markdown",
   "metadata": {},
   "source": [
    "**Вывод:**\n",
    "\n",
    "Да, самый большой процент должников мы находим среди клиентов, берущих кредит для покупки машины, видимо это менее обдуманная инвестиция чем образование или свадьба. Образование обычно окупается спустя длинный промежуток времени, а свадьбы не окупаются вообще, но здесь возможно стоимость кредитов не так велика, или в их погашении помогают молодожёнам родственники. Недвижимость - наоборот, наиболее осознаная причина взять у банка кредит, такие клиенты наиболее ответственны, а также возможно имеют доход с недвижимости (аренда, коммерческое использование), что им помогает гасить долги в срок.\n"
   ]
  },
  {
   "cell_type": "markdown",
   "metadata": {},
   "source": [
    "## Заключение - словари в данных:<a id=\"dictionaries\"></a>"
   ]
  },
  {
   "cell_type": "markdown",
   "metadata": {},
   "source": [
    "В процессе исследования мы обнапужили два ключевых словаря: "
   ]
  },
  {
   "cell_type": "markdown",
   "metadata": {},
   "source": [
    "`education -> education_id`"
   ]
  },
  {
   "cell_type": "markdown",
   "metadata": {},
   "source": [
    "`family_status -> family_status_id`"
   ]
  },
  {
   "cell_type": "markdown",
   "metadata": {},
   "source": [
    "В обоих словарях качественные данные (названия уровня образования и семейного положения) сопоставлены с количественными идентификаторами. Это нам помогло при обработке данных, так как при правильной замене букв на строчные мы получили одинаковые количества, например, количество людей с оконченым вышшим образованием равно 5250, что равно и количеству людей с `education_id` номером `0`. Мы можем составить сводные таблицы и определить, какой индекс соответсвует какому названию уровня образования:"
   ]
  },
  {
   "cell_type": "code",
   "execution_count": 182,
   "metadata": {},
   "outputs": [
    {
     "data": {
      "text/html": [
       "<div>\n",
       "<style scoped>\n",
       "    .dataframe tbody tr th:only-of-type {\n",
       "        vertical-align: middle;\n",
       "    }\n",
       "\n",
       "    .dataframe tbody tr th {\n",
       "        vertical-align: top;\n",
       "    }\n",
       "\n",
       "    .dataframe thead th {\n",
       "        text-align: right;\n",
       "    }\n",
       "</style>\n",
       "<table border=\"1\" class=\"dataframe\">\n",
       "  <thead>\n",
       "    <tr style=\"text-align: right;\">\n",
       "      <th></th>\n",
       "      <th>name</th>\n",
       "      <th>education</th>\n",
       "      <th>education_id</th>\n",
       "      <th>id</th>\n",
       "    </tr>\n",
       "  </thead>\n",
       "  <tbody>\n",
       "    <tr>\n",
       "      <td>0</td>\n",
       "      <td>среднее</td>\n",
       "      <td>15172</td>\n",
       "      <td>15172</td>\n",
       "      <td>1</td>\n",
       "    </tr>\n",
       "    <tr>\n",
       "      <td>1</td>\n",
       "      <td>высшее</td>\n",
       "      <td>5250</td>\n",
       "      <td>5250</td>\n",
       "      <td>0</td>\n",
       "    </tr>\n",
       "    <tr>\n",
       "      <td>2</td>\n",
       "      <td>неоконченное высшее</td>\n",
       "      <td>743</td>\n",
       "      <td>743</td>\n",
       "      <td>2</td>\n",
       "    </tr>\n",
       "    <tr>\n",
       "      <td>3</td>\n",
       "      <td>начальное</td>\n",
       "      <td>282</td>\n",
       "      <td>282</td>\n",
       "      <td>3</td>\n",
       "    </tr>\n",
       "    <tr>\n",
       "      <td>4</td>\n",
       "      <td>ученая степень</td>\n",
       "      <td>6</td>\n",
       "      <td>6</td>\n",
       "      <td>4</td>\n",
       "    </tr>\n",
       "  </tbody>\n",
       "</table>\n",
       "</div>"
      ],
      "text/plain": [
       "                  name  education  education_id  id\n",
       "0              среднее      15172         15172   1\n",
       "1               высшее       5250          5250   0\n",
       "2  неоконченное высшее        743           743   2\n",
       "3            начальное        282           282   3\n",
       "4       ученая степень          6             6   4"
      ]
     },
     "execution_count": 182,
     "metadata": {},
     "output_type": "execute_result"
    }
   ],
   "source": [
    "data['education'].value_counts().to_frame().reset_index().rename(columns = {'index' : 'name'}).merge(\n",
    "    data['education_id'].value_counts().to_frame(), on = data['education'].value_counts(), right_index=True\n",
    ").drop('key_0', axis = 1).merge(\n",
    "    data['education_id'].value_counts().to_frame().reset_index()\n",
    ").rename(columns={'index' : 'id'})"
   ]
  },
  {
   "cell_type": "code",
   "execution_count": 183,
   "metadata": {},
   "outputs": [
    {
     "data": {
      "text/html": [
       "<div>\n",
       "<style scoped>\n",
       "    .dataframe tbody tr th:only-of-type {\n",
       "        vertical-align: middle;\n",
       "    }\n",
       "\n",
       "    .dataframe tbody tr th {\n",
       "        vertical-align: top;\n",
       "    }\n",
       "\n",
       "    .dataframe thead th {\n",
       "        text-align: right;\n",
       "    }\n",
       "</style>\n",
       "<table border=\"1\" class=\"dataframe\">\n",
       "  <thead>\n",
       "    <tr style=\"text-align: right;\">\n",
       "      <th></th>\n",
       "      <th>name</th>\n",
       "      <th>family_status</th>\n",
       "      <th>family_status_id</th>\n",
       "      <th>id</th>\n",
       "    </tr>\n",
       "  </thead>\n",
       "  <tbody>\n",
       "    <tr>\n",
       "      <td>0</td>\n",
       "      <td>женат / замужем</td>\n",
       "      <td>12339</td>\n",
       "      <td>12339</td>\n",
       "      <td>0</td>\n",
       "    </tr>\n",
       "    <tr>\n",
       "      <td>1</td>\n",
       "      <td>гражданский брак</td>\n",
       "      <td>4150</td>\n",
       "      <td>4150</td>\n",
       "      <td>1</td>\n",
       "    </tr>\n",
       "    <tr>\n",
       "      <td>2</td>\n",
       "      <td>не женат / не замужем</td>\n",
       "      <td>2810</td>\n",
       "      <td>2810</td>\n",
       "      <td>4</td>\n",
       "    </tr>\n",
       "    <tr>\n",
       "      <td>3</td>\n",
       "      <td>в разводе</td>\n",
       "      <td>1195</td>\n",
       "      <td>1195</td>\n",
       "      <td>3</td>\n",
       "    </tr>\n",
       "    <tr>\n",
       "      <td>4</td>\n",
       "      <td>вдовец / вдова</td>\n",
       "      <td>959</td>\n",
       "      <td>959</td>\n",
       "      <td>2</td>\n",
       "    </tr>\n",
       "  </tbody>\n",
       "</table>\n",
       "</div>"
      ],
      "text/plain": [
       "                    name  family_status  family_status_id  id\n",
       "0        женат / замужем          12339             12339   0\n",
       "1       гражданский брак           4150              4150   1\n",
       "2  не женат / не замужем           2810              2810   4\n",
       "3              в разводе           1195              1195   3\n",
       "4         вдовец / вдова            959               959   2"
      ]
     },
     "execution_count": 183,
     "metadata": {},
     "output_type": "execute_result"
    }
   ],
   "source": [
    "# И повторить тот-же процесс для 'family_status' и 'family_status_id':\n",
    "data['family_status'].value_counts().to_frame().reset_index().rename(columns = {'index' : 'name'}).merge(\n",
    "    data['family_status_id'].value_counts().to_frame(), on = data['family_status'].value_counts(), right_index=True\n",
    ").drop('key_0', axis = 1).merge(\n",
    "    data['family_status_id'].value_counts().to_frame().reset_index()\n",
    ").rename(columns={'index' : 'id'})"
   ]
  },
  {
   "cell_type": "markdown",
   "metadata": {},
   "source": [
    "Все цифры совпадают, обработка данных проведена правильно и сейчас легко сопоставить \"буквенное\" название с числовым. В дальнейшем можно использовать идентификатор той или иной категории, если нужно будет проводить математические операции с её значениями - свойство иммено количественных данных, а не названий.\n",
    "\n"
   ]
  },
  {
   "cell_type": "markdown",
   "metadata": {},
   "source": [
    "## Общий вывод<a id=\"conclusion\"></a>\n"
   ]
  },
  {
   "cell_type": "markdown",
   "metadata": {},
   "source": [
    "Наименее надёжными для банка являются клиенты у которых есть дети, среди них наибольшая доля невовремя возвращённых кредитов приходится на клиентов с 4 детьми - 9.76%. Клиенты со средним доходом, которые вписываются между Q1 и Q3 выборки, также ненадёжны - здесь процент задолженности 9.05% для людей со средним доходом и 8.18% для людей с доходом выше среднего. Что касается семейного положения, клиенты, которые не состоят (и никогда не состояли) в официальном браке - наибольшие должники, их доля 9.75% в категории не женатых/не замужем и 9.35% среди тех, кто состоит в гражданском браке. Наименее надёжная цель кредита - покупка автомобиля, целых 9.36% клиентов с кредитом, взятым на манипуляции с авто, его не вернули в срок.\n",
    "\n",
    "Что касается самой выборки и данных, стоит заметить, что некоторых значений слишком мало для репрезентативного анализа, как например количество клиентов с 5 детьми или количество предпринимателей. Для этого мы можем порекоммендовать увеличить выборку и, по возможности, включить все значимые для анализа категории (количество детей - как раз одна из них) в равной мере. Также можно улучшить качество данных: например, можно создать варианты ответов для значений 'цели кредита' и в дальнейшем предлогать клиентам выбирать из ограниченого количества целевых категорий. Таким образом процесс обработки данных ускорится и не надо будет проводить лемматизацию.\n",
    "\n"
   ]
  },
  {
   "cell_type": "markdown",
   "metadata": {},
   "source": [
    "## Чек-лист готовности проекта<a id=\"checklist\"></a>"
   ]
  },
  {
   "cell_type": "markdown",
   "metadata": {},
   "source": [
    "- [x]  открыт файл;\n",
    "- [x]  файл изучен;\n",
    "- [x]  определены пропущенные значения;\n",
    "- [x]  заполнены пропущенные значения;\n",
    "- [x]  есть пояснение, какие пропущенные значения обнаружены;\n",
    "- [x]  описаны возможные причины появления пропусков в данных;\n",
    "- [x]  объяснено, по какому принципу заполнены пропуски;\n",
    "- [x]  заменен вещественный тип данных на целочисленный;\n",
    "- [x]  есть пояснение, какой метод используется для изменения типа данных и почему;\n",
    "- [x]  удалены дубликаты;\n",
    "- [x]  есть пояснение, какой метод используется для поиска и удаления дубликатов;\n",
    "- [x]  описаны возможные причины появления дубликатов в данных;\n",
    "- [x]  выделены леммы в значениях столбца с целями получения кредита;\n",
    "- [x]  описан процесс лемматизации;\n",
    "- [x]  данные категоризированы;\n",
    "- [x]  есть объяснение принципа категоризации данных;\n",
    "- [x]  есть ответ на вопрос: \"Есть ли зависимость между наличием детей и возвратом кредита в срок?\";\n",
    "- [x]  есть ответ на вопрос: \"Есть ли зависимость между семейным положением и возвратом кредита в срок?\";\n",
    "- [x]  есть ответ на вопрос: \"Есть ли зависимость между уровнем дохода и возвратом кредита в срок?\";\n",
    "- [x]  есть ответ на вопрос: \"Как разные цели кредита влияют на его возврат в срок?\";\n",
    "- [x]  в каждом этапе есть выводы;\n",
    "- [x]  есть общий вывод."
   ]
  }
 ],
 "metadata": {
  "kernelspec": {
   "display_name": "Python 3 (ipykernel)",
   "language": "python",
   "name": "python3"
  },
  "language_info": {
   "codemirror_mode": {
    "name": "ipython",
    "version": 3
   },
   "file_extension": ".py",
   "mimetype": "text/x-python",
   "name": "python",
   "nbconvert_exporter": "python",
   "pygments_lexer": "ipython3",
   "version": "3.9.5"
  },
  "toc": {
   "base_numbering": 1,
   "nav_menu": {},
   "number_sections": true,
   "sideBar": true,
   "skip_h1_title": true,
   "title_cell": "Table of Contents",
   "title_sidebar": "Contents",
   "toc_cell": false,
   "toc_position": {},
   "toc_section_display": true,
   "toc_window_display": true
  }
 },
 "nbformat": 4,
 "nbformat_minor": 2
}